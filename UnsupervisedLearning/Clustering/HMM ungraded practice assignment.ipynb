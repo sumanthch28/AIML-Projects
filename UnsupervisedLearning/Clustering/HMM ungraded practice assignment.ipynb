{
 "cells": [
  {
   "cell_type": "markdown",
   "metadata": {},
   "source": [
    "# Hidden Markov Models"
   ]
  },
  {
   "cell_type": "markdown",
   "metadata": {},
   "source": [
    "Hidden Markov Models is a type of a random process. We begin with a few “states” for the chain, {S₁,…,Sₖ}; For instance, if our chain represents the cricket match, we can have {Boundary, single run, wicket}. Markov Chains are often described by a graph with transition probabilities, i.e, the probability of moving to state j from state i, which are denoted by pᵢ,ⱼ. Let us generate a sequence of one over, in each 1 denotes the Batsman is batting and 0 denotes Bowler is batting. We will use the algorithm to find the most likely event occurance for the over ( 6 balls)."
   ]
  },
  {
   "cell_type": "code",
   "execution_count": 31,
   "metadata": {},
   "outputs": [
    {
     "name": "stdout",
     "output_type": "stream",
     "text": [
      "Simulated Observations:\n",
      "   Obs_code  Obs_seq\n",
      "0        1   Bowler\n",
      "1        1   Bowler\n",
      "2        0  Batsman\n",
      "3        1   Bowler\n",
      "4        0  Batsman\n",
      "5        0  Batsman\n"
     ]
    }
   ],
   "source": [
    "import numpy as np\n",
    "import pandas as pd\n",
    "\n",
    "obs_map = {'Batsman':0, 'Bowler':1}\n",
    "obs = np.array([1,1,0,1,0,0])\n",
    "\n",
    "inv_obs_map = dict((v,k) for k, v in obs_map.items())\n",
    "obs_seq = [inv_obs_map[v] for v in list(obs)]\n",
    "\n",
    "print(\"Simulated Observations:\\n\",pd.DataFrame(np.column_stack([obs, obs_seq]),columns=['Obs_code', 'Obs_seq']) )\n",
    "\n"
   ]
  },
  {
   "cell_type": "code",
   "execution_count": 50,
   "metadata": {},
   "outputs": [
    {
     "name": "stdout",
     "output_type": "stream",
     "text": [
      "\n",
      " HMM matrix:\n",
      "            Boundary single run wicket\n",
      "Boundary        0.3        0.5    0.2\n",
      "single run      0.6        0.2    0.2\n",
      "wicket          0.2        0.7    0.1\n"
     ]
    }
   ],
   "source": [
    "pi = [0.6,0.4] # initial probabilities vector\n",
    "states = ['Batsman', 'Bowler']\n",
    "hidden_states = ['Boundary', 'single run', 'wicket']\n",
    "pi = [0, 0.2, 0.8]\n",
    "state_space = pd.Series(pi, index=hidden_states, name='states')\n",
    "a_df = pd.DataFrame(columns=hidden_states, index=hidden_states)\n",
    "a_df.loc[hidden_states[0]] = [0.3, 0.5, 0.2]\n",
    "a_df.loc[hidden_states[1]] = [0.6, 0.2, 0.2]\n",
    "a_df.loc[hidden_states[2]] = [0.2, 0.7, 0.1]\n",
    "print(\"\\n HMM matrix:\\n\", a_df)\n",
    "a = a_df.values\n",
    "\n"
   ]
  },
  {
   "cell_type": "markdown",
   "metadata": {},
   "source": [
    "Suppose we have the Markov Chain from above, with three states (Boundary, single run and wicket), P - the transition probability matrix and q — the initial probabilities. This is the invisible Markov Chain — suppose we know who will be facing (Batsman or Bowler) the ball."
   ]
  },
  {
   "cell_type": "code",
   "execution_count": 51,
   "metadata": {},
   "outputs": [
    {
     "name": "stdout",
     "output_type": "stream",
     "text": [
      "\n",
      " Observable layer  matrix:\n",
      "            Batsman Bowler\n",
      "Boundary       0.8    0.2\n",
      "single run     0.6    0.4\n",
      "wicket         0.3    0.7\n"
     ]
    }
   ],
   "source": [
    "observable_states = states\n",
    "b_df = pd.DataFrame(columns=observable_states, index=hidden_states)\n",
    "b_df.loc[hidden_states[0]] = [0.8,0.2]\n",
    "b_df.loc[hidden_states[1]] = [0.6,0.4]\n",
    "b_df.loc[hidden_states[2]] = [0.3,0.7]\n",
    "print(\"\\n Observable layer  matrix:\\n\",b_df)\n",
    "b = b_df.values"
   ]
  },
  {
   "cell_type": "markdown",
   "metadata": {},
   "source": [
    "# Viterbi Algorithm"
   ]
  },
  {
   "cell_type": "markdown",
   "metadata": {},
   "source": [
    "The Viterbi algorithm is an algorithm for finding the most likely sequence of hidden states—called the Viterbi path—that results in a sequence of observed events, especially in the context of Markov information sources and hidden Markov models (HMM).The Viterbi algorithm is named after Andrew Viterbi, who proposed it in 1967 "
   ]
  },
  {
   "cell_type": "code",
   "execution_count": 52,
   "metadata": {},
   "outputs": [],
   "source": [
    "def viterbi(pi, a, b, obs):\n",
    "    \n",
    "    nStates = np.shape(b)[0]\n",
    "    T = np.shape(obs)[0]\n",
    "    \n",
    "    # init blank path\n",
    "    path = path = np.zeros(T,dtype=int)\n",
    "    # delta --> highest probability of any path that reaches state i\n",
    "    delta = np.zeros((nStates, T))\n",
    "    # phi --> argmax by time step for each state\n",
    "    phi = np.zeros((nStates, T))\n",
    "    \n",
    "    # init delta and phi \n",
    "    delta[:, 0] = pi * b[:, obs[0]]\n",
    "    phi[:, 0] = 0\n",
    "\n",
    "    print('\\nStart Walk Forward\\n')    \n",
    "    # the forward algorithm extension\n",
    "    for t in range(1, T):\n",
    "        for s in range(nStates):\n",
    "            delta[s, t] = np.max(delta[:, t-1] * a[:, s]) * b[s, obs[t]] \n",
    "            phi[s, t] = np.argmax(delta[:, t-1] * a[:, s])\n",
    "            print('s={s} and t={t}: phi[{s}, {t}] = {phi}'.format(s=s, t=t, phi=phi[s, t]))\n",
    "    \n",
    "    # find optimal path\n",
    "    print('-'*50)\n",
    "    print('Start Backtrace\\n')\n",
    "    path[T-1] = np.argmax(delta[:, T-1])\n",
    "    for t in range(T-2, -1, -1):\n",
    "        path[t] = phi[path[t+1], [t+1]]\n",
    "        print('path[{}] = {}'.format(t, path[t]))\n",
    "        \n",
    "    print(\"After doing the backtrace it will give us the output as shown below\")\n",
    "        \n",
    "    return path, delta, phi"
   ]
  },
  {
   "cell_type": "code",
   "execution_count": 53,
   "metadata": {},
   "outputs": [
    {
     "data": {
      "text/plain": [
       "array([[0.3, 0.5, 0.2],\n",
       "       [0.6, 0.2, 0.2],\n",
       "       [0.2, 0.7, 0.1]], dtype=object)"
      ]
     },
     "execution_count": 53,
     "metadata": {},
     "output_type": "execute_result"
    }
   ],
   "source": [
    "a"
   ]
  },
  {
   "cell_type": "code",
   "execution_count": 54,
   "metadata": {},
   "outputs": [
    {
     "data": {
      "text/plain": [
       "array([[0.8, 0.2],\n",
       "       [0.6, 0.4],\n",
       "       [0.3, 0.7]], dtype=object)"
      ]
     },
     "execution_count": 54,
     "metadata": {},
     "output_type": "execute_result"
    }
   ],
   "source": [
    "b"
   ]
  },
  {
   "cell_type": "code",
   "execution_count": 55,
   "metadata": {},
   "outputs": [
    {
     "data": {
      "text/plain": [
       "array([1, 1, 0, 1, 0, 0])"
      ]
     },
     "execution_count": 55,
     "metadata": {},
     "output_type": "execute_result"
    }
   ],
   "source": [
    "obs"
   ]
  },
  {
   "cell_type": "code",
   "execution_count": 56,
   "metadata": {},
   "outputs": [
    {
     "name": "stdout",
     "output_type": "stream",
     "text": [
      "\n",
      "Start Walk Forward\n",
      "\n",
      "s=0 and t=1: phi[0, 1] = 2.0\n",
      "s=1 and t=1: phi[1, 1] = 2.0\n",
      "s=2 and t=1: phi[2, 1] = 2.0\n",
      "s=0 and t=2: phi[0, 2] = 1.0\n",
      "s=1 and t=2: phi[1, 2] = 1.0\n",
      "s=2 and t=2: phi[2, 2] = 1.0\n",
      "s=0 and t=3: phi[0, 3] = 0.0\n",
      "s=1 and t=3: phi[1, 3] = 0.0\n",
      "s=2 and t=3: phi[2, 3] = 0.0\n",
      "s=0 and t=4: phi[0, 4] = 1.0\n",
      "s=1 and t=4: phi[1, 4] = 2.0\n",
      "s=2 and t=4: phi[2, 4] = 1.0\n",
      "s=0 and t=5: phi[0, 5] = 1.0\n",
      "s=1 and t=5: phi[1, 5] = 0.0\n",
      "s=2 and t=5: phi[2, 5] = 0.0\n",
      "--------------------------------------------------\n",
      "Start Backtrace\n",
      "\n",
      "path[4] = 0\n",
      "path[3] = 1\n",
      "path[2] = 0\n",
      "path[1] = 1\n",
      "path[0] = 2\n",
      "After doing the backtrace it will give us the output as shown below\n"
     ]
    },
    {
     "data": {
      "text/html": [
       "<div>\n",
       "<style scoped>\n",
       "    .dataframe tbody tr th:only-of-type {\n",
       "        vertical-align: middle;\n",
       "    }\n",
       "\n",
       "    .dataframe tbody tr th {\n",
       "        vertical-align: top;\n",
       "    }\n",
       "\n",
       "    .dataframe thead th {\n",
       "        text-align: right;\n",
       "    }\n",
       "</style>\n",
       "<table border=\"1\" class=\"dataframe\">\n",
       "  <thead>\n",
       "    <tr style=\"text-align: right;\">\n",
       "      <th></th>\n",
       "      <th>Observation</th>\n",
       "      <th>Best_Path</th>\n",
       "    </tr>\n",
       "  </thead>\n",
       "  <tbody>\n",
       "    <tr>\n",
       "      <th>0</th>\n",
       "      <td>Bowler</td>\n",
       "      <td>wicket</td>\n",
       "    </tr>\n",
       "    <tr>\n",
       "      <th>1</th>\n",
       "      <td>Bowler</td>\n",
       "      <td>single run</td>\n",
       "    </tr>\n",
       "    <tr>\n",
       "      <th>2</th>\n",
       "      <td>Batsman</td>\n",
       "      <td>Boundary</td>\n",
       "    </tr>\n",
       "    <tr>\n",
       "      <th>3</th>\n",
       "      <td>Bowler</td>\n",
       "      <td>single run</td>\n",
       "    </tr>\n",
       "    <tr>\n",
       "      <th>4</th>\n",
       "      <td>Batsman</td>\n",
       "      <td>Boundary</td>\n",
       "    </tr>\n",
       "    <tr>\n",
       "      <th>5</th>\n",
       "      <td>Batsman</td>\n",
       "      <td>single run</td>\n",
       "    </tr>\n",
       "  </tbody>\n",
       "</table>\n",
       "</div>"
      ],
      "text/plain": [
       "  Observation   Best_Path\n",
       "0      Bowler      wicket\n",
       "1      Bowler  single run\n",
       "2     Batsman    Boundary\n",
       "3      Bowler  single run\n",
       "4     Batsman    Boundary\n",
       "5     Batsman  single run"
      ]
     },
     "execution_count": 56,
     "metadata": {},
     "output_type": "execute_result"
    }
   ],
   "source": [
    "path, delta, phi = viterbi(pi, a, b, obs)\n",
    "state_map = {0:'Boundary', 1:'single run', 2:'wicket'}\n",
    "state_path = [state_map[v] for v in path]\n",
    "pd.DataFrame().assign(Observation=obs_seq).assign(Best_Path=state_path)"
   ]
  },
  {
   "cell_type": "code",
   "execution_count": null,
   "metadata": {},
   "outputs": [],
   "source": []
  }
 ],
 "metadata": {
  "kernelspec": {
   "display_name": "Python 3",
   "language": "python",
   "name": "python3"
  },
  "language_info": {
   "codemirror_mode": {
    "name": "ipython",
    "version": 3
   },
   "file_extension": ".py",
   "mimetype": "text/x-python",
   "name": "python",
   "nbconvert_exporter": "python",
   "pygments_lexer": "ipython3",
   "version": "3.5.2"
  }
 },
 "nbformat": 4,
 "nbformat_minor": 2
}
