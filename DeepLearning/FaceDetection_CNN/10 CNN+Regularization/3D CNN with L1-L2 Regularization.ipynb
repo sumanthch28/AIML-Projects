{
 "cells": [
  {
   "cell_type": "markdown",
   "metadata": {},
   "source": [
    "# Convolutional Neural Network with L1 / L2 Regularization"
   ]
  },
  {
   "cell_type": "code",
   "execution_count": 1,
   "metadata": {},
   "outputs": [],
   "source": [
    "# Import Libraries\n",
    "# - Tensorflow\n",
    "# - Keras\n",
    "# - numpy and random\n",
    "\n",
    "import tensorflow as tf\n",
    "from tensorflow.keras import models\n",
    "from tensorflow.keras import layers\n",
    "\n",
    "from tensorflow.keras import regularizers\n",
    "\n",
    "import random\n",
    "import numpy as np\n",
    "\n",
    "import matplotlib.pyplot as plt\n",
    "%matplotlib inline"
   ]
  },
  {
   "cell_type": "code",
   "execution_count": 2,
   "metadata": {},
   "outputs": [],
   "source": [
    "random.seed(42)         # Initialize the random number generator.\n",
    "np.random.seed(42)      # With the seed reset, the same set of numbers will appear every time. \n",
    "tf.set_random_seed(42)  # sets the graph-level random seed"
   ]
  },
  {
   "cell_type": "markdown",
   "metadata": {},
   "source": [
    "## Dataset - MNIST"
   ]
  },
  {
   "cell_type": "code",
   "execution_count": 3,
   "metadata": {},
   "outputs": [
    {
     "name": "stdout",
     "output_type": "stream",
     "text": [
      "(60000, 28, 28, 1) (10000, 28, 28, 1)\n",
      "(60000, 10) (10000, 10)\n"
     ]
    }
   ],
   "source": [
    "# Use the MNIST dataset  of Keras.\n",
    "\n",
    "mnist = tf.keras.datasets.mnist\n",
    "\n",
    "(Xtrain, Ytrain), (Xtest,Ytest) = mnist.load_data()\n",
    "\n",
    "# Display size of dataset\n",
    "Xtrain = Xtrain.reshape((60000,28,28,1))\n",
    "Xtrain = Xtrain.astype('float32')/255\n",
    "\n",
    "Xtest = Xtest.reshape((10000,28,28,1))\n",
    "Xtest = Xtest.astype('float32')/255\n",
    "\n",
    "Ytrain = tf.keras.utils.to_categorical(Ytrain)\n",
    "Ytest = tf.keras.utils.to_categorical(Ytest)\n",
    "\n",
    "print(Xtrain.shape, Xtest.shape)\n",
    "print(Ytrain.shape, Ytest.shape)"
   ]
  },
  {
   "cell_type": "markdown",
   "metadata": {},
   "source": [
    "## Create a CNN Model"
   ]
  },
  {
   "cell_type": "code",
   "execution_count": 4,
   "metadata": {},
   "outputs": [
    {
     "name": "stdout",
     "output_type": "stream",
     "text": [
      "WARNING:tensorflow:From C:\\Anaconda3\\lib\\site-packages\\tensorflow\\python\\ops\\init_ops.py:1251: calling VarianceScaling.__init__ (from tensorflow.python.ops.init_ops) with dtype is deprecated and will be removed in a future version.\n",
      "Instructions for updating:\n",
      "Call initializer instance with the dtype argument instead of passing it to the constructor\n",
      "Model: \"sequential\"\n",
      "_________________________________________________________________\n",
      "Layer (type)                 Output Shape              Param #   \n",
      "=================================================================\n",
      "conv2d (Conv2D)              (None, 26, 26, 32)        320       \n",
      "_________________________________________________________________\n",
      "max_pooling2d (MaxPooling2D) (None, 13, 13, 32)        0         \n",
      "_________________________________________________________________\n",
      "conv2d_1 (Conv2D)            (None, 11, 11, 64)        18496     \n",
      "_________________________________________________________________\n",
      "max_pooling2d_1 (MaxPooling2 (None, 5, 5, 64)          0         \n",
      "_________________________________________________________________\n",
      "dense (Dense)                (None, 5, 5, 30)          1950      \n",
      "_________________________________________________________________\n",
      "conv2d_2 (Conv2D)            (None, 3, 3, 64)          17344     \n",
      "_________________________________________________________________\n",
      "flatten (Flatten)            (None, 576)               0         \n",
      "_________________________________________________________________\n",
      "dense_1 (Dense)              (None, 64)                36928     \n",
      "_________________________________________________________________\n",
      "dense_2 (Dense)              (None, 32)                2080      \n",
      "_________________________________________________________________\n",
      "dense_3 (Dense)              (None, 10)                330       \n",
      "=================================================================\n",
      "Total params: 77,448\n",
      "Trainable params: 77,448\n",
      "Non-trainable params: 0\n",
      "_________________________________________________________________\n"
     ]
    }
   ],
   "source": [
    "# Create a Sequential model object\n",
    "cnnModel = models.Sequential()\n",
    "\n",
    "# Add layers Conv2D for CNN and sepcify MaxPooling\n",
    "\n",
    "# Layer 1 = input layer\n",
    "cnnModel.add(layers.Conv2D(32, (3,3), activation=\"relu\", input_shape=(28,28,1) ))\n",
    "\n",
    "cnnModel.add(layers.MaxPooling2D((2,2)))\n",
    "\n",
    "\n",
    "# Layer 2\n",
    "cnnModel.add(layers.Conv2D(64, (3,3), activation=\"relu\"))\n",
    "\n",
    "cnnModel.add(layers.MaxPooling2D((2,2)))\n",
    "\n",
    "\n",
    "# layer 2 with L1-L2 with Regularizers\n",
    "cnnModel.add(layers.Dense(30, activation='relu', \n",
    "                          kernel_regularizer = regularizers.l1_l2(l1=0.01, l2=0.01),\n",
    "                          activity_regularizer = regularizers.l1_l2(l1=0.01, l2=0.01) ) )\n",
    "\n",
    "\n",
    "# Layer 3\n",
    "cnnModel.add(layers.Conv2D(64, (3,3), activation=\"relu\" ))\n",
    "cnnModel.add(layers.Flatten())\n",
    "\n",
    "\n",
    "# Add Dense layers or fully connected layers\n",
    "# Layer 4\n",
    "cnnModel.add(layers.Dense(64, activation=\"relu\" ))\n",
    "\n",
    "# Layer 5\n",
    "cnnModel.add(layers.Dense(32, activation=\"relu\" ))\n",
    "\n",
    "# Layer 6\n",
    "cnnModel.add(layers.Dense(10, activation=\"softmax\" ))\n",
    "\n",
    "cnnModel.summary()\n"
   ]
  },
  {
   "cell_type": "code",
   "execution_count": 5,
   "metadata": {},
   "outputs": [],
   "source": [
    "# Configure  the model for training, by using appropriate optimizers and regularizations\n",
    "# Available optimizer: adam, rmsprop, adagrad, sgd\n",
    "# loss:  objective that the model will try to minimize. \n",
    "# Available loss: categorical_crossentropy, binary_crossentropy, mean_squared_error\n",
    "# metrics: List of metrics to be evaluated by the model during training and testing. \n",
    "\n",
    "cnnModel.compile(optimizer = \"adam\", loss = \"categorical_crossentropy\", metrics = [\"accuracy\"])\n"
   ]
  },
  {
   "cell_type": "code",
   "execution_count": 6,
   "metadata": {},
   "outputs": [
    {
     "name": "stdout",
     "output_type": "stream",
     "text": [
      "Train on 54000 samples, validate on 6000 samples\n",
      "Epoch 1/25\n",
      "54000/54000 [==============================] - 26s 481us/sample - loss: 0.8751 - acc: 0.8594 - val_loss: 0.1957 - val_acc: 0.9727\n",
      "Epoch 2/25\n",
      "54000/54000 [==============================] - 25s 467us/sample - loss: 0.1824 - acc: 0.9674 - val_loss: 0.1242 - val_acc: 0.9825\n",
      "Epoch 3/25\n",
      "54000/54000 [==============================] - 25s 465us/sample - loss: 0.1307 - acc: 0.9752 - val_loss: 0.1010 - val_acc: 0.9828\n",
      "Epoch 4/25\n",
      "54000/54000 [==============================] - 26s 473us/sample - loss: 0.1079 - acc: 0.9797 - val_loss: 0.0944 - val_acc: 0.9840\n",
      "Epoch 5/25\n",
      "54000/54000 [==============================] - 25s 461us/sample - loss: 0.0943 - acc: 0.9821 - val_loss: 0.0866 - val_acc: 0.9828\n",
      "Epoch 6/25\n",
      "54000/54000 [==============================] - 25s 466us/sample - loss: 0.0851 - acc: 0.9841 - val_loss: 0.1163 - val_acc: 0.9765\n",
      "Epoch 7/25\n",
      "54000/54000 [==============================] - 25s 469us/sample - loss: 0.0784 - acc: 0.9848 - val_loss: 0.0685 - val_acc: 0.9890\n",
      "Epoch 8/25\n",
      "54000/54000 [==============================] - 25s 462us/sample - loss: 0.0733 - acc: 0.9859 - val_loss: 0.0695 - val_acc: 0.9868\n",
      "Epoch 9/25\n",
      "54000/54000 [==============================] - 25s 465us/sample - loss: 0.0667 - acc: 0.9874 - val_loss: 0.0615 - val_acc: 0.9893\n",
      "Epoch 10/25\n",
      "54000/54000 [==============================] - 26s 479us/sample - loss: 0.0626 - acc: 0.9889 - val_loss: 0.0668 - val_acc: 0.9870\n",
      "Epoch 11/25\n",
      "54000/54000 [==============================] - 25s 464us/sample - loss: 0.0610 - acc: 0.9883 - val_loss: 0.0602 - val_acc: 0.9902\n",
      "Epoch 12/25\n",
      "54000/54000 [==============================] - 25s 464us/sample - loss: 0.0567 - acc: 0.9901 - val_loss: 0.0636 - val_acc: 0.9890\n",
      "Epoch 13/25\n",
      "54000/54000 [==============================] - 28s 509us/sample - loss: 0.0556 - acc: 0.9896 - val_loss: 0.0628 - val_acc: 0.9895\n",
      "Epoch 14/25\n",
      "54000/54000 [==============================] - 25s 465us/sample - loss: 0.0516 - acc: 0.9913 - val_loss: 0.0690 - val_acc: 0.9872\n",
      "Epoch 15/25\n",
      "54000/54000 [==============================] - 26s 478us/sample - loss: 0.0498 - acc: 0.9917 - val_loss: 0.0687 - val_acc: 0.9868\n",
      "Epoch 16/25\n",
      "54000/54000 [==============================] - 25s 460us/sample - loss: 0.0482 - acc: 0.9921 - val_loss: 0.0674 - val_acc: 0.9858\n",
      "Epoch 17/25\n",
      "54000/54000 [==============================] - 25s 471us/sample - loss: 0.0467 - acc: 0.9920 - val_loss: 0.0597 - val_acc: 0.9895\n",
      "Epoch 18/25\n",
      "54000/54000 [==============================] - 26s 480us/sample - loss: 0.0447 - acc: 0.9928 - val_loss: 0.0588 - val_acc: 0.9888\n",
      "Epoch 19/25\n",
      "54000/54000 [==============================] - 25s 469us/sample - loss: 0.0434 - acc: 0.9930 - val_loss: 0.0649 - val_acc: 0.9888\n",
      "Epoch 20/25\n",
      "54000/54000 [==============================] - 25s 466us/sample - loss: 0.0407 - acc: 0.9937 - val_loss: 0.0609 - val_acc: 0.9898\n",
      "Epoch 21/25\n",
      "54000/54000 [==============================] - 25s 464us/sample - loss: 0.0409 - acc: 0.9936 - val_loss: 0.0689 - val_acc: 0.9867\n",
      "Epoch 22/25\n",
      "54000/54000 [==============================] - 25s 463us/sample - loss: 0.0376 - acc: 0.9944 - val_loss: 0.0651 - val_acc: 0.9893\n",
      "Epoch 23/25\n",
      "54000/54000 [==============================] - 25s 465us/sample - loss: 0.0388 - acc: 0.9945 - val_loss: 0.0592 - val_acc: 0.9893\n",
      "Epoch 24/25\n",
      "54000/54000 [==============================] - 26s 475us/sample - loss: 0.0389 - acc: 0.9942 - val_loss: 0.0629 - val_acc: 0.9888\n",
      "Epoch 25/25\n",
      "54000/54000 [==============================] - 26s 476us/sample - loss: 0.0364 - acc: 0.9950 - val_loss: 0.0627 - val_acc: 0.9887\n"
     ]
    }
   ],
   "source": [
    "# train the model\n",
    "\n",
    "history = cnnModel.fit(Xtrain, Ytrain, epochs = 25, batch_size = 64, validation_split = 0.1)"
   ]
  },
  {
   "cell_type": "code",
   "execution_count": 7,
   "metadata": {},
   "outputs": [
    {
     "name": "stdout",
     "output_type": "stream",
     "text": [
      "Final training loss \t 0.03638961509973915\n",
      "Final training accuracy  0.99498147\n"
     ]
    }
   ],
   "source": [
    "print('Final training loss \\t', history.history['loss'][-1])\n",
    "print('Final training accuracy ', history.history['acc'][-1])"
   ]
  },
  {
   "cell_type": "markdown",
   "metadata": {},
   "source": [
    "## Results and Outputs"
   ]
  },
  {
   "cell_type": "code",
   "execution_count": 8,
   "metadata": {},
   "outputs": [
    {
     "name": "stdout",
     "output_type": "stream",
     "text": [
      "10000/10000 [==============================] - 2s 169us/sample - loss: 0.0648 - acc: 0.9864\n"
     ]
    }
   ],
   "source": [
    "# testing the model\n",
    "\n",
    "testLoss, testAccuracy = cnnModel.evaluate( Xtest, Ytest)"
   ]
  },
  {
   "cell_type": "code",
   "execution_count": 9,
   "metadata": {},
   "outputs": [
    {
     "name": "stdout",
     "output_type": "stream",
     "text": [
      "Testing loss \t 0.06478484164476395\n",
      "Testing accuracy  0.9864\n"
     ]
    }
   ],
   "source": [
    "print('Testing loss \\t', testLoss)\n",
    "print('Testing accuracy ', testAccuracy)"
   ]
  },
  {
   "cell_type": "code",
   "execution_count": 10,
   "metadata": {},
   "outputs": [
    {
     "data": {
      "image/png": "[encoded data removed]",
      "text/plain": [
       "<Figure size 432x288 with 1 Axes>"
      ]
     },
     "metadata": {
      "needs_background": "light"
     },
     "output_type": "display_data"
    },
    {
     "data": {
      "image/png": "[encoded data removed]",
      "text/plain": [
       "<Figure size 432x288 with 1 Axes>"
      ]
     },
     "metadata": {
      "needs_background": "light"
     },
     "output_type": "display_data"
    }
   ],
   "source": [
    "# plotting training and validation loss\n",
    "\n",
    "loss = history.history['loss']\n",
    "val_loss = history.history['val_loss']\n",
    "epochs = range(1, len(loss) + 1)\n",
    "plt.plot(epochs, loss, color='red', label='Training loss')\n",
    "plt.plot(epochs, val_loss, color='green', label='Validation loss')\n",
    "plt.title('Training and Validation loss')\n",
    "plt.xlabel('Epochs')\n",
    "plt.ylabel('Loss')\n",
    "plt.legend()\n",
    "plt.show()\n",
    "\n",
    "# plotting training and validation accuracy\n",
    "\n",
    "acc = history.history['acc']\n",
    "val_acc = history.history['val_acc']\n",
    "plt.plot(epochs, acc, color='red', label='Training acc')\n",
    "plt.plot(epochs, val_acc, color='green', label='Validation acc')\n",
    "plt.title('Training and Validation accuracy')\n",
    "plt.xlabel('Epochs')\n",
    "plt.ylabel('Loss')\n",
    "plt.legend()\n",
    "plt.show()"
   ]
  },
  {
   "cell_type": "markdown",
   "metadata": {},
   "source": [
    "## Confusion Matrix generation"
   ]
  },
  {
   "cell_type": "markdown",
   "metadata": {},
   "source": [
    "### Prediction for a specific testing data generte confusion matrix"
   ]
  },
  {
   "cell_type": "code",
   "execution_count": 11,
   "metadata": {},
   "outputs": [],
   "source": [
    "Y_prediction = cnnModel.predict(Xtest)\n",
    "\n",
    "# Convert predictions classes to one hot vectors \n",
    "Y_pred_classes = np.argmax(Y_prediction, axis = 1) \n",
    "\n",
    "# Convert validation observations to one hot vectors\n",
    "Y_true = np.argmax(Ytest,axis = 1) \n",
    "\n"
   ]
  },
  {
   "cell_type": "code",
   "execution_count": 12,
   "metadata": {},
   "outputs": [
    {
     "name": "stdout",
     "output_type": "stream",
     "text": [
      "              precision    recall  f1-score   support\n",
      "\n",
      "           0       1.00      0.98      0.99       980\n",
      "           1       0.99      0.99      0.99      1135\n",
      "           2       0.99      1.00      0.99      1032\n",
      "           3       0.99      0.98      0.99      1010\n",
      "           4       0.99      0.98      0.99       982\n",
      "           5       0.96      1.00      0.98       892\n",
      "           6       0.98      0.98      0.98       958\n",
      "           7       0.99      0.98      0.99      1028\n",
      "           8       0.98      0.99      0.99       974\n",
      "           9       0.99      0.97      0.98      1009\n",
      "\n",
      "   micro avg       0.99      0.99      0.99     10000\n",
      "   macro avg       0.99      0.99      0.99     10000\n",
      "weighted avg       0.99      0.99      0.99     10000\n",
      "\n"
     ]
    }
   ],
   "source": [
    "# Classification Report\n",
    "\n",
    "from sklearn.metrics import classification_report \n",
    "\n",
    "print(classification_report(Y_true, Y_pred_classes))"
   ]
  },
  {
   "cell_type": "code",
   "execution_count": 13,
   "metadata": {},
   "outputs": [
    {
     "data": {
      "image/png": "[encoded data removed]",
      "text/plain": [
       "<Figure size 720x576 with 2 Axes>"
      ]
     },
     "metadata": {
      "needs_background": "light"
     },
     "output_type": "display_data"
    }
   ],
   "source": [
    "# confusion matrix\n",
    "from sklearn.metrics import confusion_matrix\n",
    "import seaborn as sns\n",
    "\n",
    "# compute the confusion matrix\n",
    "confusion_mtx = confusion_matrix(Y_true, Y_pred_classes) \n",
    "\n",
    "plt.figure(figsize=(10,8))\n",
    "sns.heatmap(confusion_mtx, annot=True, fmt=\"d\");"
   ]
  },
  {
   "cell_type": "markdown",
   "metadata": {},
   "source": [
    "Modify the code to get a better testing accuracy.\n",
    "- Change the number of hidden units\n",
    "- Increase the number of hidden layers\n",
    "- Use a different optimizer\n",
    "- Train for more epochs for better graphs\n",
    "\n",
    "- Try using CIFAR dataset"
   ]
  }
 ],
 "metadata": {
  "kernelspec": {
   "display_name": "Python 3",
   "language": "python",
   "name": "python3"
  },
  "language_info": {
   "codemirror_mode": {
    "name": "ipython",
    "version": 3
   },
   "file_extension": ".py",
   "mimetype": "text/x-python",
   "name": "python",
   "nbconvert_exporter": "python",
   "pygments_lexer": "ipython3",
   "version": "3.7.3"
  }
 },
 "nbformat": 4,
 "nbformat_minor": 2
}
