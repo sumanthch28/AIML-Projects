{
  "nbformat": 4,
  "nbformat_minor": 0,
  "metadata": {
    "colab": {
      "name": "Untitled1.ipynb",
      "provenance": []
    },
    "kernelspec": {
      "name": "python3",
      "display_name": "Python 3"
    }
  },
  "cells": [
    {
      "cell_type": "code",
      "metadata": {
        "colab": {
          "base_uri": "https://localhost:8080/"
        },
        "id": "3FR901HlFuUu",
        "outputId": "48bb5d6d-563e-4e39-890e-b72768e37ad3"
      },
      "source": [
        "from google.colab import drive\n",
        "drive.mount('/content/drive')"
      ],
      "execution_count": 1,
      "outputs": [
        {
          "output_type": "stream",
          "text": [
            "Mounted at /content/drive\n"
          ],
          "name": "stdout"
        }
      ]
    },
    {
      "cell_type": "code",
      "metadata": {
        "id": "6HqPV1GyLHt2"
      },
      "source": [
        "import os \n",
        "\n",
        "os.chdir(\"/content/drive/My Drive\")"
      ],
      "execution_count": 2,
      "outputs": []
    },
    {
      "cell_type": "code",
      "metadata": {
        "colab": {
          "base_uri": "https://localhost:8080/"
        },
        "id": "8wCPEcxMLQNI",
        "outputId": "201da519-e220-457c-9f3e-0ff12920e3e8"
      },
      "source": [
        "cd dataset/"
      ],
      "execution_count": 3,
      "outputs": [
        {
          "output_type": "stream",
          "text": [
            "/content/drive/.shortcut-targets-by-id/1cv15aT7p4272_F6E4pwl-gjKZJ0aNaod/dataset\n"
          ],
          "name": "stdout"
        }
      ]
    },
    {
      "cell_type": "code",
      "metadata": {
        "colab": {
          "base_uri": "https://localhost:8080/"
        },
        "id": "xa2d0ZUwLcmA",
        "outputId": "f6402a9f-9057-4e1a-e444-f7e57871fee8"
      },
      "source": [
        "ls -ltr"
      ],
      "execution_count": 4,
      "outputs": [
        {
          "output_type": "stream",
          "text": [
            "total 8\n",
            "dr-x------ 2 root root 4096 Jul 25 16:32 \u001b[0m\u001b[01;34mtrain_validate\u001b[0m/\n",
            "dr-x------ 2 root root 4096 Jul 25 16:32 \u001b[01;34mtest\u001b[0m/\n"
          ],
          "name": "stdout"
        }
      ]
    },
    {
      "cell_type": "code",
      "metadata": {
        "colab": {
          "base_uri": "https://localhost:8080/"
        },
        "id": "SLMsdqPiLfAO",
        "outputId": "c24de18e-b3f3-404b-9cf4-0769cdfb182e"
      },
      "source": [
        "cd train_validate/"
      ],
      "execution_count": 5,
      "outputs": [
        {
          "output_type": "stream",
          "text": [
            "/content/drive/.shortcut-targets-by-id/1cv15aT7p4272_F6E4pwl-gjKZJ0aNaod/dataset/train_validate\n"
          ],
          "name": "stdout"
        }
      ]
    },
    {
      "cell_type": "code",
      "metadata": {
        "colab": {
          "base_uri": "https://localhost:8080/"
        },
        "id": "Ys5FnXGOLiRq",
        "outputId": "ca105ea9-864e-4905-8c74-046834680c36"
      },
      "source": [
        "ls -ltr"
      ],
      "execution_count": 6,
      "outputs": [
        {
          "output_type": "stream",
          "text": [
            "total 8\n",
            "dr-x------ 2 root root 4096 Jul 25 16:32 \u001b[0m\u001b[01;34munmasked\u001b[0m/\n",
            "dr-x------ 2 root root 4096 Jul 25 16:32 \u001b[01;34mmasked\u001b[0m/\n"
          ],
          "name": "stdout"
        }
      ]
    },
    {
      "cell_type": "code",
      "metadata": {
        "colab": {
          "base_uri": "https://localhost:8080/",
          "height": 35
        },
        "id": "yEOKlfDJLklW",
        "outputId": "b41bff86-5dd0-4b39-da2f-a6daa188c3dd"
      },
      "source": [
        "pwd"
      ],
      "execution_count": 7,
      "outputs": [
        {
          "output_type": "execute_result",
          "data": {
            "application/vnd.google.colaboratory.intrinsic+json": {
              "type": "string"
            },
            "text/plain": [
              "'/content/drive/.shortcut-targets-by-id/1cv15aT7p4272_F6E4pwl-gjKZJ0aNaod/dataset/train_validate'"
            ]
          },
          "metadata": {
            "tags": []
          },
          "execution_count": 7
        }
      ]
    },
    {
      "cell_type": "code",
      "metadata": {
        "colab": {
          "base_uri": "https://localhost:8080/"
        },
        "id": "V89Im0kwMSaH",
        "outputId": "93978ff0-c4bd-416f-8016-0ca8fb7b9009"
      },
      "source": [
        "cd /content/drive/My Drive/ML-CNN"
      ],
      "execution_count": 8,
      "outputs": [
        {
          "output_type": "stream",
          "text": [
            "/content/drive/My Drive/ML-CNN\n"
          ],
          "name": "stdout"
        }
      ]
    },
    {
      "cell_type": "code",
      "metadata": {
        "colab": {
          "base_uri": "https://localhost:8080/"
        },
        "id": "H9j2R7r-N1fp",
        "outputId": "65fe72ec-b1d3-4ebe-8fdd-d167fe96175f"
      },
      "source": [
        "cd /content/drive/My Drive/"
      ],
      "execution_count": 10,
      "outputs": [
        {
          "output_type": "stream",
          "text": [
            "/content/drive/My Drive\n"
          ],
          "name": "stdout"
        }
      ]
    },
    {
      "cell_type": "code",
      "metadata": {
        "colab": {
          "base_uri": "https://localhost:8080/"
        },
        "id": "0pI0NPUfPn5R",
        "outputId": "348bc978-a1ed-4f44-f6b1-523b75101b4c"
      },
      "source": [
        "cd .."
      ],
      "execution_count": 11,
      "outputs": [
        {
          "output_type": "stream",
          "text": [
            "/content/drive\n"
          ],
          "name": "stdout"
        }
      ]
    },
    {
      "cell_type": "code",
      "metadata": {
        "colab": {
          "base_uri": "https://localhost:8080/",
          "height": 35
        },
        "id": "lRSAM0yjP4cY",
        "outputId": "2b10932a-afea-4f56-95c4-e9882f9730cf"
      },
      "source": [
        "pwd"
      ],
      "execution_count": 12,
      "outputs": [
        {
          "output_type": "execute_result",
          "data": {
            "application/vnd.google.colaboratory.intrinsic+json": {
              "type": "string"
            },
            "text/plain": [
              "'/content/drive'"
            ]
          },
          "metadata": {
            "tags": []
          },
          "execution_count": 12
        }
      ]
    },
    {
      "cell_type": "code",
      "metadata": {
        "colab": {
          "base_uri": "https://localhost:8080/"
        },
        "id": "K_MfeJPz_-BS",
        "outputId": "d3d15de2-f5be-437c-eeb3-7e3bc374d115"
      },
      "source": [
        " !pip install split-folders tqdm"
      ],
      "execution_count": 17,
      "outputs": [
        {
          "output_type": "stream",
          "text": [
            "Collecting split-folders\n",
            "  Downloading https://files.pythonhosted.org/packages/b8/5f/3c2b2f7ea5e047c8cdc3bb00ae582c5438fcdbbedcc23b3cc1c2c7aae642/split_folders-0.4.3-py3-none-any.whl\n",
            "Requirement already satisfied: tqdm in /usr/local/lib/python3.6/dist-packages (4.41.1)\n",
            "Installing collected packages: split-folders\n",
            "Successfully installed split-folders-0.4.3\n"
          ],
          "name": "stdout"
        }
      ]
    },
    {
      "cell_type": "code",
      "metadata": {
        "id": "fPTWEpAjADIm"
      },
      "source": [
        "import splitfolders"
      ],
      "execution_count": 18,
      "outputs": []
    },
    {
      "cell_type": "code",
      "metadata": {
        "colab": {
          "base_uri": "https://localhost:8080/"
        },
        "id": "kxaU_dYyAFjQ",
        "outputId": "0a64c209-49a3-43c5-81c0-20e955b1cf85"
      },
      "source": [
        "splitfolders.ratio(\"/content/drive/My Drive/ML-CNN/dataset/train_validate/\", output=\"/content/drive/My Drive/ML-CNN/dataset/output\", seed=1337, ratio=(.8, .2), group_prefix=None)"
      ],
      "execution_count": 20,
      "outputs": [
        {
          "output_type": "stream",
          "text": [
            "Copying files: 1727 files [00:18, 91.29 files/s]\n"
          ],
          "name": "stderr"
        }
      ]
    },
    {
      "cell_type": "code",
      "metadata": {
        "colab": {
          "base_uri": "https://localhost:8080/"
        },
        "id": "CnLv7iAFQW6_",
        "outputId": "b2d2fe16-5634-4501-8f7e-138874b0b93d"
      },
      "source": [
        "from keras.preprocessing.image import ImageDataGenerator\n",
        "train_datagen = ImageDataGenerator(rescale= 1./255)\n",
        "train_generator = train_datagen.flow_from_directory('/content/drive/My Drive/ML-CNN/dataset/output/train', target_size=(64, 64), color_mode='rgb', batch_size=32, class_mode='categorical', shuffle=True, seed=42)"
      ],
      "execution_count": 69,
      "outputs": [
        {
          "output_type": "stream",
          "text": [
            "Found 1381 images belonging to 2 classes.\n"
          ],
          "name": "stdout"
        }
      ]
    },
    {
      "cell_type": "code",
      "metadata": {
        "colab": {
          "base_uri": "https://localhost:8080/"
        },
        "id": "MWxGI6V0AdKD",
        "outputId": "eacc9711-5d64-4dbc-8d9d-b33634446934"
      },
      "source": [
        "test_datagen = ImageDataGenerator(rescale= 1./255)\n",
        "test_generator = test_datagen.flow_from_directory('/content/drive/My Drive/ML-CNN/dataset/test', target_size=(64, 64), color_mode='rgb', batch_size=32, class_mode='categorical', shuffle=True, seed=42)"
      ],
      "execution_count": 70,
      "outputs": [
        {
          "output_type": "stream",
          "text": [
            "Found 320 images belonging to 2 classes.\n"
          ],
          "name": "stdout"
        }
      ]
    },
    {
      "cell_type": "code",
      "metadata": {
        "colab": {
          "base_uri": "https://localhost:8080/"
        },
        "id": "tPuEJB3uQhSd",
        "outputId": "85781ddf-652e-4f8b-bfbc-67160a1f5f61"
      },
      "source": [
        "from keras.preprocessing.image import ImageDataGenerator\n",
        "validate_datagen = ImageDataGenerator(rescale= 1./255)\n",
        "validate_generator = train_datagen.flow_from_directory('/content/drive/My Drive/ML-CNN/dataset/output/val', target_size=(64, 64), color_mode='rgb', batch_size=32, class_mode='categorical', shuffle=True, seed=42)"
      ],
      "execution_count": 71,
      "outputs": [
        {
          "output_type": "stream",
          "text": [
            "Found 346 images belonging to 2 classes.\n"
          ],
          "name": "stdout"
        }
      ]
    },
    {
      "cell_type": "code",
      "metadata": {
        "id": "38iTexek5CVA"
      },
      "source": [
        "import tensorflow as tf\n",
        "from tensorflow.keras import models\n",
        "from tensorflow.keras import layers\n",
        "import matplotlib.pyplot as plt\n",
        "from tensorflow.keras import layers\n",
        "import pandas as pd\n",
        "from tensorflow import keras\n",
        "from tensorflow.keras import layers\n",
        "import numpy as np\n",
        "from sklearn.metrics import accuracy_score\n",
        "from sklearn.metrics import classification_report, confusion_matrix, precision_recall_fscore_support"
      ],
      "execution_count": 88,
      "outputs": []
    },
    {
      "cell_type": "code",
      "metadata": {
        "colab": {
          "base_uri": "https://localhost:8080/"
        },
        "id": "2J1pTw5U4ZeN",
        "outputId": "39607cd1-68fb-47f5-8dac-fffc7dbb8888"
      },
      "source": [
        "# Create a Sequential model object\n",
        "cnnModel = models.Sequential()\n",
        "\n",
        "# Add layers Conv2D for CNN and sepcify MaxPooling\n",
        "\n",
        "# Layer 1 = input layer\n",
        "cnnModel.add(layers.Conv2D(16, 3, activation=\"relu\", input_shape=(64,64,3) ))\n",
        "\n",
        "cnnModel.add(layers.MaxPooling2D((2,2)))\n",
        "\n",
        "cnnModel.add(layers.Flatten())\n",
        "\n",
        "# Layer 6\n",
        "cnnModel.add(layers.Dense(128, activation=\"softmax\" ))\n",
        "\n",
        "cnnModel.add(layers.Dense(2))\n",
        "\n",
        "cnnModel.summary()\n"
      ],
      "execution_count": 119,
      "outputs": [
        {
          "output_type": "stream",
          "text": [
            "Model: \"sequential_16\"\n",
            "_________________________________________________________________\n",
            "Layer (type)                 Output Shape              Param #   \n",
            "=================================================================\n",
            "conv2d_24 (Conv2D)           (None, 62, 62, 16)        448       \n",
            "_________________________________________________________________\n",
            "max_pooling2d_23 (MaxPooling (None, 31, 31, 16)        0         \n",
            "_________________________________________________________________\n",
            "flatten_15 (Flatten)         (None, 15376)             0         \n",
            "_________________________________________________________________\n",
            "dense_28 (Dense)             (None, 128)               1968256   \n",
            "_________________________________________________________________\n",
            "dense_29 (Dense)             (None, 2)                 258       \n",
            "=================================================================\n",
            "Total params: 1,968,962\n",
            "Trainable params: 1,968,962\n",
            "Non-trainable params: 0\n",
            "_________________________________________________________________\n"
          ],
          "name": "stdout"
        }
      ]
    },
    {
      "cell_type": "code",
      "metadata": {
        "id": "s3VWd14_5Y_g"
      },
      "source": [
        "cnnModel.compile(loss=tf.keras.losses.categorical_crossentropy,\n",
        "              optimizer=tf.keras.optimizers.Adam(),\n",
        "              metrics=['accuracy'])"
      ],
      "execution_count": 120,
      "outputs": []
    },
    {
      "cell_type": "code",
      "metadata": {
        "colab": {
          "base_uri": "https://localhost:8080/"
        },
        "id": "wrvfk0Y8Samq",
        "outputId": "c264e6cb-9bac-4d34-8d95-a5fc00bbcc16"
      },
      "source": [
        "history = cnnModel.fit(train_generator, epochs=70, validation_data=validate_generator)\n"
      ],
      "execution_count": 121,
      "outputs": [
        {
          "output_type": "stream",
          "text": [
            "Epoch 1/70\n",
            "44/44 [==============================] - 8s 173ms/step - loss: 0.9211 - accuracy: 0.4985 - val_loss: 0.4660 - val_accuracy: 0.1040\n",
            "Epoch 2/70\n",
            "44/44 [==============================] - 7s 161ms/step - loss: 0.4935 - accuracy: 0.1120 - val_loss: 0.2907 - val_accuracy: 0.0723\n",
            "Epoch 3/70\n",
            "44/44 [==============================] - 7s 169ms/step - loss: 0.7180 - accuracy: 0.3283 - val_loss: 0.7021 - val_accuracy: 0.4855\n",
            "Epoch 4/70\n",
            "44/44 [==============================] - 8s 175ms/step - loss: 0.6362 - accuracy: 0.4813 - val_loss: 0.4688 - val_accuracy: 0.0751\n",
            "Epoch 5/70\n",
            "44/44 [==============================] - 7s 163ms/step - loss: 0.3732 - accuracy: 0.0707 - val_loss: 0.2308 - val_accuracy: 0.0520\n",
            "Epoch 6/70\n",
            "44/44 [==============================] - 7s 162ms/step - loss: 0.1708 - accuracy: 0.0439 - val_loss: 0.2054 - val_accuracy: 0.0462\n",
            "Epoch 7/70\n",
            "44/44 [==============================] - 7s 162ms/step - loss: 0.1238 - accuracy: 0.0406 - val_loss: 0.2354 - val_accuracy: 0.0434\n",
            "Epoch 8/70\n",
            "44/44 [==============================] - 8s 170ms/step - loss: 0.1237 - accuracy: 0.0232 - val_loss: 0.2441 - val_accuracy: 0.0405\n",
            "Epoch 9/70\n",
            "44/44 [==============================] - 7s 162ms/step - loss: 0.1437 - accuracy: 0.0235 - val_loss: 0.1614 - val_accuracy: 0.0376\n",
            "Epoch 10/70\n",
            "44/44 [==============================] - 7s 163ms/step - loss: 0.0600 - accuracy: 0.0130 - val_loss: 0.2484 - val_accuracy: 0.0434\n",
            "Epoch 11/70\n",
            "44/44 [==============================] - 7s 161ms/step - loss: 0.0457 - accuracy: 0.0077 - val_loss: 0.2704 - val_accuracy: 0.0318\n",
            "Epoch 12/70\n",
            "44/44 [==============================] - 7s 161ms/step - loss: 0.0831 - accuracy: 0.0087 - val_loss: 0.2710 - val_accuracy: 0.0347\n",
            "Epoch 13/70\n",
            "44/44 [==============================] - 7s 165ms/step - loss: 0.0932 - accuracy: 0.0087 - val_loss: 0.2844 - val_accuracy: 0.0405\n",
            "Epoch 14/70\n",
            "44/44 [==============================] - 7s 165ms/step - loss: 0.0838 - accuracy: 0.0103 - val_loss: 0.3056 - val_accuracy: 0.0318\n",
            "Epoch 15/70\n",
            "44/44 [==============================] - 7s 170ms/step - loss: 0.0521 - accuracy: 0.0049 - val_loss: 0.2609 - val_accuracy: 0.0318\n",
            "Epoch 16/70\n",
            "44/44 [==============================] - 8s 174ms/step - loss: 0.0624 - accuracy: 0.0040 - val_loss: 0.3109 - val_accuracy: 0.0318\n",
            "Epoch 17/70\n",
            "44/44 [==============================] - 8s 181ms/step - loss: 0.0422 - accuracy: 0.0058 - val_loss: 0.2617 - val_accuracy: 0.0260\n",
            "Epoch 18/70\n",
            "44/44 [==============================] - 7s 168ms/step - loss: 0.0772 - accuracy: 0.0047 - val_loss: 0.3211 - val_accuracy: 0.0318\n",
            "Epoch 19/70\n",
            "44/44 [==============================] - 7s 165ms/step - loss: 0.0368 - accuracy: 0.0022 - val_loss: 0.3501 - val_accuracy: 0.0318\n",
            "Epoch 20/70\n",
            "44/44 [==============================] - 7s 165ms/step - loss: 0.0416 - accuracy: 0.0025 - val_loss: 0.2571 - val_accuracy: 0.0260\n",
            "Epoch 21/70\n",
            "44/44 [==============================] - 7s 166ms/step - loss: 0.0432 - accuracy: 0.0028 - val_loss: 0.3392 - val_accuracy: 0.0260\n",
            "Epoch 22/70\n",
            "44/44 [==============================] - 7s 165ms/step - loss: 0.0323 - accuracy: 0.0019 - val_loss: 0.2297 - val_accuracy: 0.0231\n",
            "Epoch 23/70\n",
            "44/44 [==============================] - 7s 165ms/step - loss: 0.0321 - accuracy: 0.0020 - val_loss: 0.2961 - val_accuracy: 0.0260\n",
            "Epoch 24/70\n",
            "44/44 [==============================] - 8s 172ms/step - loss: 0.0588 - accuracy: 0.0036 - val_loss: 0.2619 - val_accuracy: 0.0289\n",
            "Epoch 25/70\n",
            "44/44 [==============================] - 7s 163ms/step - loss: 0.0572 - accuracy: 0.0043 - val_loss: 0.3028 - val_accuracy: 0.0347\n",
            "Epoch 26/70\n",
            "44/44 [==============================] - 7s 163ms/step - loss: 2.0247 - accuracy: 0.1690 - val_loss: 0.6934 - val_accuracy: 0.4855\n",
            "Epoch 27/70\n",
            "44/44 [==============================] - 7s 168ms/step - loss: 0.7001 - accuracy: 0.5129 - val_loss: 0.6932 - val_accuracy: 0.4855\n",
            "Epoch 28/70\n",
            "44/44 [==============================] - 7s 162ms/step - loss: 0.6920 - accuracy: 0.4732 - val_loss: 0.6928 - val_accuracy: 0.4855\n",
            "Epoch 29/70\n",
            "44/44 [==============================] - 7s 168ms/step - loss: 0.6933 - accuracy: 0.4847 - val_loss: 0.6928 - val_accuracy: 0.4855\n",
            "Epoch 30/70\n",
            "44/44 [==============================] - 7s 167ms/step - loss: 0.6932 - accuracy: 0.4908 - val_loss: 0.6927 - val_accuracy: 0.4855\n",
            "Epoch 31/70\n",
            "44/44 [==============================] - 7s 165ms/step - loss: 0.6934 - accuracy: 0.4855 - val_loss: 0.6929 - val_accuracy: 0.4855\n",
            "Epoch 32/70\n",
            "44/44 [==============================] - 7s 161ms/step - loss: 0.6944 - accuracy: 0.4988 - val_loss: 0.6927 - val_accuracy: 0.4855\n",
            "Epoch 33/70\n",
            "44/44 [==============================] - 7s 160ms/step - loss: 0.6930 - accuracy: 0.4881 - val_loss: 0.6928 - val_accuracy: 0.4855\n",
            "Epoch 34/70\n",
            "44/44 [==============================] - 7s 161ms/step - loss: 0.6931 - accuracy: 0.4847 - val_loss: 0.6930 - val_accuracy: 0.4855\n",
            "Epoch 35/70\n",
            "44/44 [==============================] - 7s 160ms/step - loss: 0.6920 - accuracy: 0.4723 - val_loss: 0.6931 - val_accuracy: 0.4855\n",
            "Epoch 36/70\n",
            "44/44 [==============================] - 7s 160ms/step - loss: 0.6933 - accuracy: 0.4720 - val_loss: 0.6931 - val_accuracy: 0.4855\n",
            "Epoch 37/70\n",
            "44/44 [==============================] - 7s 160ms/step - loss: 0.6931 - accuracy: 0.4840 - val_loss: 0.6931 - val_accuracy: 0.4855\n",
            "Epoch 38/70\n",
            "44/44 [==============================] - 7s 167ms/step - loss: 0.6932 - accuracy: 0.5183 - val_loss: 0.6929 - val_accuracy: 0.4855\n",
            "Epoch 39/70\n",
            "44/44 [==============================] - 7s 164ms/step - loss: 0.6933 - accuracy: 0.4853 - val_loss: 0.6931 - val_accuracy: 0.4855\n",
            "Epoch 40/70\n",
            "44/44 [==============================] - 7s 165ms/step - loss: 0.6935 - accuracy: 0.5233 - val_loss: 0.6927 - val_accuracy: 0.4855\n",
            "Epoch 41/70\n",
            "44/44 [==============================] - 7s 160ms/step - loss: 0.6934 - accuracy: 0.4874 - val_loss: 0.6928 - val_accuracy: 0.4855\n",
            "Epoch 42/70\n",
            "44/44 [==============================] - 7s 170ms/step - loss: 0.6944 - accuracy: 0.5019 - val_loss: 0.6927 - val_accuracy: 0.4855\n",
            "Epoch 43/70\n",
            "44/44 [==============================] - 7s 162ms/step - loss: 0.6944 - accuracy: 0.5343 - val_loss: 0.6929 - val_accuracy: 0.4855\n",
            "Epoch 44/70\n",
            "44/44 [==============================] - 7s 162ms/step - loss: 0.6923 - accuracy: 0.4768 - val_loss: 0.6928 - val_accuracy: 0.4855\n",
            "Epoch 45/70\n",
            "44/44 [==============================] - 7s 162ms/step - loss: 0.6936 - accuracy: 0.4933 - val_loss: 0.6927 - val_accuracy: 0.4855\n",
            "Epoch 46/70\n",
            "44/44 [==============================] - 7s 168ms/step - loss: 0.6928 - accuracy: 0.4871 - val_loss: 0.6931 - val_accuracy: 0.4855\n",
            "Epoch 47/70\n",
            "44/44 [==============================] - 7s 168ms/step - loss: 0.6929 - accuracy: 0.4778 - val_loss: 0.6929 - val_accuracy: 0.4855\n",
            "Epoch 48/70\n",
            "44/44 [==============================] - 7s 164ms/step - loss: 0.6929 - accuracy: 0.4718 - val_loss: 0.6928 - val_accuracy: 0.4855\n",
            "Epoch 49/70\n",
            "44/44 [==============================] - 7s 167ms/step - loss: 0.6941 - accuracy: 0.5110 - val_loss: 0.6928 - val_accuracy: 0.4855\n",
            "Epoch 50/70\n",
            "44/44 [==============================] - 7s 162ms/step - loss: 0.6933 - accuracy: 0.4900 - val_loss: 0.6932 - val_accuracy: 0.4855\n",
            "Epoch 51/70\n",
            "44/44 [==============================] - 7s 163ms/step - loss: 0.6933 - accuracy: 0.4854 - val_loss: 0.6928 - val_accuracy: 0.4855\n",
            "Epoch 52/70\n",
            "44/44 [==============================] - 7s 160ms/step - loss: 0.6936 - accuracy: 0.4988 - val_loss: 0.6929 - val_accuracy: 0.4855\n",
            "Epoch 53/70\n",
            "44/44 [==============================] - 7s 161ms/step - loss: 0.6941 - accuracy: 0.4944 - val_loss: 0.6929 - val_accuracy: 0.4855\n",
            "Epoch 54/70\n",
            "44/44 [==============================] - 7s 160ms/step - loss: 0.6954 - accuracy: 0.5236 - val_loss: 0.6927 - val_accuracy: 0.4855\n",
            "Epoch 55/70\n",
            "44/44 [==============================] - 7s 161ms/step - loss: 0.6917 - accuracy: 0.4610 - val_loss: 0.6928 - val_accuracy: 0.4855\n",
            "Epoch 56/70\n",
            "44/44 [==============================] - 7s 166ms/step - loss: 0.6929 - accuracy: 0.4682 - val_loss: 0.6930 - val_accuracy: 0.4855\n",
            "Epoch 57/70\n",
            "44/44 [==============================] - 7s 161ms/step - loss: 0.6935 - accuracy: 0.5129 - val_loss: 0.6930 - val_accuracy: 0.4855\n",
            "Epoch 58/70\n",
            "44/44 [==============================] - 7s 168ms/step - loss: 0.6927 - accuracy: 0.4864 - val_loss: 0.6929 - val_accuracy: 0.4855\n",
            "Epoch 59/70\n",
            "44/44 [==============================] - 7s 163ms/step - loss: 0.6929 - accuracy: 0.4771 - val_loss: 0.6928 - val_accuracy: 0.4855\n",
            "Epoch 60/70\n",
            "44/44 [==============================] - 7s 166ms/step - loss: 0.6925 - accuracy: 0.4748 - val_loss: 0.6927 - val_accuracy: 0.4855\n",
            "Epoch 61/70\n",
            "44/44 [==============================] - 7s 160ms/step - loss: 0.6936 - accuracy: 0.4978 - val_loss: 0.6927 - val_accuracy: 0.4855\n",
            "Epoch 62/70\n",
            "44/44 [==============================] - 7s 163ms/step - loss: 0.6927 - accuracy: 0.4822 - val_loss: 0.6927 - val_accuracy: 0.4855\n",
            "Epoch 63/70\n",
            "44/44 [==============================] - 7s 167ms/step - loss: 0.6940 - accuracy: 0.5083 - val_loss: 0.6927 - val_accuracy: 0.4855\n",
            "Epoch 64/70\n",
            "44/44 [==============================] - 7s 173ms/step - loss: 0.6936 - accuracy: 0.4834 - val_loss: 0.6928 - val_accuracy: 0.4855\n",
            "Epoch 65/70\n",
            "44/44 [==============================] - 8s 177ms/step - loss: 0.6926 - accuracy: 0.4805 - val_loss: 0.6929 - val_accuracy: 0.4855\n",
            "Epoch 66/70\n",
            "44/44 [==============================] - 8s 174ms/step - loss: 0.6932 - accuracy: 0.4872 - val_loss: 0.6929 - val_accuracy: 0.4855\n",
            "Epoch 67/70\n",
            "44/44 [==============================] - 7s 163ms/step - loss: 0.6928 - accuracy: 0.4697 - val_loss: 0.6928 - val_accuracy: 0.4855\n",
            "Epoch 68/70\n",
            "44/44 [==============================] - 7s 163ms/step - loss: 0.6933 - accuracy: 0.4899 - val_loss: 0.6928 - val_accuracy: 0.4855\n",
            "Epoch 69/70\n",
            "44/44 [==============================] - 7s 163ms/step - loss: 0.6928 - accuracy: 0.4985 - val_loss: 0.6927 - val_accuracy: 0.4855\n",
            "Epoch 70/70\n",
            "44/44 [==============================] - 7s 164ms/step - loss: 0.6939 - accuracy: 0.5176 - val_loss: 0.6928 - val_accuracy: 0.4855\n"
          ],
          "name": "stdout"
        }
      ]
    },
    {
      "cell_type": "code",
      "metadata": {
        "colab": {
          "base_uri": "https://localhost:8080/",
          "height": 587
        },
        "id": "CxF1CftJ6gAq",
        "outputId": "a787fd03-2bb2-4990-b205-ac70f46d6c1e"
      },
      "source": [
        "epochs = 70\n",
        "# Plotting Accuracy and loss for teh default model\n",
        "acc = history.history['accuracy']\n",
        "val_acc = history.history['val_accuracy']\n",
        "loss = history.history['loss']\n",
        "val_loss = history.history['val_loss']\n",
        "\n",
        "print(acc)\n",
        "print(val_acc)\n",
        "print(loss)\n",
        "print(val_loss)\n",
        "\n",
        "epochs_range = range(epochs)\n",
        "\n",
        "plt.figure(figsize=(8, 8))\n",
        "plt.subplot(1, 2, 1)\n",
        "plt.plot(epochs_range, acc, label='Training Accuracy')\n",
        "plt.plot(epochs_range, val_acc, label='Validation Accuracy')\n",
        "plt.legend(loc='lower right')\n",
        "plt.title('Training and Validation Accuracy')\n",
        "\n",
        "plt.subplot(1, 2, 2)\n",
        "plt.plot(epochs_range, loss, label='Training Loss')\n",
        "plt.plot(epochs_range, val_loss, label='Validation Loss')\n",
        "plt.legend(loc='upper right')\n",
        "plt.title('Default Model - Training and Validation Loss')\n",
        "plt.show()"
      ],
      "execution_count": 122,
      "outputs": [
        {
          "output_type": "stream",
          "text": [
            "[0.41346850991249084, 0.1209268644452095, 0.43953657150268555, 0.4576393961906433, 0.06082548946142197, 0.04923968017101288, 0.04127443954348564, 0.02389572747051716, 0.018102824687957764, 0.019551049917936325, 0.013758146204054356, 0.007965242490172386, 0.0065170167945325375, 0.010137581266462803, 0.0050687906332314014, 0.0043446775525808334, 0.0050687906332314014, 0.003620564704760909, 0.003620564704760909, 0.003620564704760909, 0.0043446775525808334, 0.003620564704760909, 0.003620564704760909, 0.003620564704760909, 0.007241129409521818, 0.3287472724914551, 0.49601736664772034, 0.48660391569137573, 0.48660391569137573, 0.48660391569137573, 0.48660391569137573, 0.48660391569137573, 0.48660391569137573, 0.48660391569137573, 0.48660391569137573, 0.48660391569137573, 0.48660391569137573, 0.5025343894958496, 0.48660391569137573, 0.5112237334251404, 0.48660391569137573, 0.48660391569137573, 0.5184648633003235, 0.48660391569137573, 0.48660391569137573, 0.5097755193710327, 0.48660391569137573, 0.48660391569137573, 0.5133960843086243, 0.48660391569137573, 0.48660391569137573, 0.48660391569137573, 0.48660391569137573, 0.5039826035499573, 0.48660391569137573, 0.48660391569137573, 0.5025343894958496, 0.48660391569137573, 0.48660391569137573, 0.48660391569137573, 0.48660391569137573, 0.48660391569137573, 0.5162925124168396, 0.48660391569137573, 0.48660391569137573, 0.48660391569137573, 0.48660391569137573, 0.48660391569137573, 0.508327305316925, 0.5039826035499573]\n",
            "[0.10404624044895172, 0.07225433737039566, 0.48554912209510803, 0.07514450699090958, 0.05202312022447586, 0.04624277353286743, 0.04335260018706322, 0.040462426841259, 0.03757225349545479, 0.04335260018706322, 0.03179190680384636, 0.034682080149650574, 0.040462426841259, 0.03179190680384636, 0.03179190680384636, 0.03179190680384636, 0.02601156011223793, 0.03179190680384636, 0.03179190680384636, 0.02601156011223793, 0.02601156011223793, 0.023121386766433716, 0.02601156011223793, 0.028901733458042145, 0.034682080149650574, 0.48554912209510803, 0.48554912209510803, 0.48554912209510803, 0.48554912209510803, 0.48554912209510803, 0.48554912209510803, 0.48554912209510803, 0.48554912209510803, 0.48554912209510803, 0.48554912209510803, 0.48554912209510803, 0.48554912209510803, 0.48554912209510803, 0.48554912209510803, 0.48554912209510803, 0.48554912209510803, 0.48554912209510803, 0.48554912209510803, 0.48554912209510803, 0.48554912209510803, 0.48554912209510803, 0.48554912209510803, 0.48554912209510803, 0.48554912209510803, 0.48554912209510803, 0.48554912209510803, 0.48554912209510803, 0.48554912209510803, 0.48554912209510803, 0.48554912209510803, 0.48554912209510803, 0.48554912209510803, 0.48554912209510803, 0.48554912209510803, 0.48554912209510803, 0.48554912209510803, 0.48554912209510803, 0.48554912209510803, 0.48554912209510803, 0.48554912209510803, 0.48554912209510803, 0.48554912209510803, 0.48554912209510803, 0.48554912209510803, 0.48554912209510803]\n",
            "[0.713941752910614, 0.5186594128608704, 0.8192954659461975, 0.5849351286888123, 0.2976931035518646, 0.20779775083065033, 0.1433613896369934, 0.10783964395523071, 0.09392089396715164, 0.09546775370836258, 0.08164246380329132, 0.07412495464086533, 0.07144708931446075, 0.08480527251958847, 0.06468670070171356, 0.0649973675608635, 0.06207165867090225, 0.059393029659986496, 0.05959124490618706, 0.05906744673848152, 0.060827501118183136, 0.060480181127786636, 0.05901680886745453, 0.05902724340558052, 0.07814527302980423, 2.6486868858337402, 0.698493480682373, 0.693328320980072, 0.6934806108474731, 0.6930679678916931, 0.6933711767196655, 0.6935930252075195, 0.6933069825172424, 0.693053662776947, 0.6932286024093628, 0.6935613751411438, 0.6932758688926697, 0.6935131549835205, 0.693263828754425, 0.6931638717651367, 0.6932652592658997, 0.6934381127357483, 0.6937285661697388, 0.6932768821716309, 0.6930400729179382, 0.6935116648674011, 0.6930981278419495, 0.6937578320503235, 0.6936315298080444, 0.693183183670044, 0.6933827996253967, 0.6931483745574951, 0.6933562159538269, 0.6938727498054504, 0.6932404637336731, 0.6937306523323059, 0.6935153007507324, 0.6929407119750977, 0.6931809186935425, 0.6931731104850769, 0.6930903196334839, 0.6933017373085022, 0.6939820647239685, 0.6935907602310181, 0.6932277679443359, 0.693284809589386, 0.6932570338249207, 0.6934517025947571, 0.6932841539382935, 0.6932290196418762]\n",
            "[0.4660312831401825, 0.2907278835773468, 0.7020907402038574, 0.4687769114971161, 0.2308419793844223, 0.20542246103286743, 0.23541635274887085, 0.24414438009262085, 0.16140352189540863, 0.24837026000022888, 0.27039697766304016, 0.27097561955451965, 0.284391850233078, 0.30558907985687256, 0.2609090507030487, 0.31089454889297485, 0.26167425513267517, 0.3210833668708801, 0.3500525653362274, 0.25711628794670105, 0.3391610085964203, 0.22967369854450226, 0.2960544526576996, 0.2618861198425293, 0.30283910036087036, 0.6934325098991394, 0.6932123303413391, 0.6927939653396606, 0.6927530169487, 0.6927315592765808, 0.6929486989974976, 0.6927448511123657, 0.6928196549415588, 0.6929991245269775, 0.6930885910987854, 0.6930876970291138, 0.6930749416351318, 0.6929022669792175, 0.6930754780769348, 0.6927308440208435, 0.6927923560142517, 0.6927359104156494, 0.6929183602333069, 0.6928197741508484, 0.6927400827407837, 0.6931012272834778, 0.6929365992546082, 0.6928297281265259, 0.6927703022956848, 0.6932199001312256, 0.6927810311317444, 0.6929463148117065, 0.6928697824478149, 0.6927305459976196, 0.692812979221344, 0.6930465698242188, 0.6929757595062256, 0.6928626298904419, 0.6927574276924133, 0.6927295923233032, 0.6927304863929749, 0.6927347183227539, 0.6927317976951599, 0.6927818655967712, 0.6929157972335815, 0.6928901672363281, 0.6927534937858582, 0.6927561163902283, 0.6927295923233032, 0.6927517652511597]\n"
          ],
          "name": "stdout"
        },
        {
          "output_type": "display_data",
          "data": {
            "image/png": "[encoded data removed]",
            "text/plain": [
              "<Figure size 576x576 with 2 Axes>"
            ]
          },
          "metadata": {
            "tags": [],
            "needs_background": "light"
          }
        }
      ]
    },
    {
      "cell_type": "code",
      "metadata": {
        "colab": {
          "base_uri": "https://localhost:8080/"
        },
        "id": "MUR7g5TIbM_z",
        "outputId": "cfb24913-9022-4c30-ac74-72945257c5a5"
      },
      "source": [
        "class_names = ['masked', 'unmasked']\n",
        "print (class_names)"
      ],
      "execution_count": 123,
      "outputs": [
        {
          "output_type": "stream",
          "text": [
            "['masked', 'unmasked']\n"
          ],
          "name": "stdout"
        }
      ]
    },
    {
      "cell_type": "code",
      "metadata": {
        "colab": {
          "base_uri": "https://localhost:8080/"
        },
        "id": "nvP56-AqYUCc",
        "outputId": "92607baa-b3b3-4e44-cf8e-8aa8eb59ab98"
      },
      "source": [
        "# 4. Evaluate the trained CNN model on test data. Print classification results. [2 point]\n",
        "df = pd.DataFrame(columns=['Actual', 'Predicted'])\n",
        "images = []\n",
        "rows_list = []\n",
        "def predictimages(folder_path, mask_type, df):\n",
        "  className = 'masked'\n",
        "  if mask_type == False:\n",
        "    className = 'unmasked'\n",
        "  folder_path += '/' + className\n",
        "  for img in os.listdir(folder_path):\n",
        "    img = os.path.join(folder_path, img)\n",
        "    img = keras.preprocessing.image.load_img(img, target_size=(64, 64))\n",
        "    img_array = keras.preprocessing.image.img_to_array(img)\n",
        "    img_array = tf.expand_dims(img_array, 0)\n",
        "    predictions = cnnModel.predict(img_array)\n",
        "    score = tf.nn.softmax(predictions[0])\n",
        "    rows_list.append({'Actual': mask_type, 'Predicted' : mask_type if (class_names[np.argmax(score)] == className) else (not mask_type)})\n",
        "\n",
        "folder_path = '/content/drive/My Drive/ML-CNN/dataset/test'\n",
        "mask_type = True\n",
        "predictimages(folder_path, mask_type, df)\n",
        "mask_type = False\n",
        "predictimages(folder_path, mask_type, df)\n",
        "df = pd.DataFrame(rows_list)\n",
        "\n",
        "print('---------------------------Accuracy Score----------------')\n",
        "print(accuracy_score(df['Actual'].tolist(),df['Predicted'].tolist()))\n",
        "print('---------------------------Confusion Matrix----------------')\n",
        "print(confusion_matrix(df['Actual'].tolist(),df['Predicted'].tolist()).ravel())\n",
        "print('---------------------------Precision Recall Fscore Support----------------')\n",
        "default_precision, default_recall, default_fscore, default_support = precision_recall_fscore_support(df['Actual'].tolist(),df['Predicted'].tolist(), average='macro')\n",
        "print(default_precision, default_recall, default_fscore, default_support)\n",
        "print('---------------------------Classification Report----------------')\n",
        "print(classification_report(df['Actual'].tolist(),df['Predicted'].tolist()))"
      ],
      "execution_count": 124,
      "outputs": [
        {
          "output_type": "stream",
          "text": [
            "---------------------------Accuracy Score----------------\n",
            "0.5\n",
            "---------------------------Confusion Matrix----------------\n",
            "[160   0 160   0]\n",
            "---------------------------Precision Recall Fscore Support----------------\n",
            "0.25 0.5 0.3333333333333333 None\n",
            "---------------------------Classification Report----------------\n",
            "              precision    recall  f1-score   support\n",
            "\n",
            "       False       0.50      1.00      0.67       160\n",
            "        True       0.00      0.00      0.00       160\n",
            "\n",
            "    accuracy                           0.50       320\n",
            "   macro avg       0.25      0.50      0.33       320\n",
            "weighted avg       0.25      0.50      0.33       320\n",
            "\n"
          ],
          "name": "stdout"
        },
        {
          "output_type": "stream",
          "text": [
            "/usr/local/lib/python3.6/dist-packages/sklearn/metrics/_classification.py:1272: UndefinedMetricWarning: Precision and F-score are ill-defined and being set to 0.0 in labels with no predicted samples. Use `zero_division` parameter to control this behavior.\n",
            "  _warn_prf(average, modifier, msg_start, len(result))\n"
          ],
          "name": "stderr"
        }
      ]
    },
    {
      "cell_type": "code",
      "metadata": {
        "colab": {
          "base_uri": "https://localhost:8080/"
        },
        "id": "uI4VgxtOgGfX",
        "outputId": "94ac8702-af82-40ac-c8dd-089b7815aa9e"
      },
      "source": [
        "# Create a Sequential model object\n",
        "cnnModel_1 = models.Sequential()\n",
        "\n",
        "# Add layers Conv2D for CNN and sepcify MaxPooling\n",
        "\n",
        "# Layer 1 = input layer\n",
        "cnnModel_1.add(layers.Conv2D(16, 3, activation=\"relu\", input_shape=(64,64,3) ))\n",
        "\n",
        "cnnModel_1.add(layers.MaxPooling2D((2,2)))\n",
        "\n",
        "# Layer 2 = input layer\n",
        "cnnModel_1.add(layers.Conv2D(32, 3, activation=\"relu\", input_shape=(64,64,3) ))\n",
        "\n",
        "cnnModel_1.add(layers.MaxPooling2D((2,2)))\n",
        "\n",
        "# Layer 3 = input layer\n",
        "cnnModel_1.add(layers.Conv2D(64, 3, activation=\"relu\", input_shape=(64,64,3) ))\n",
        "\n",
        "cnnModel_1.add(layers.MaxPooling2D((2,2)))\n",
        "\n",
        "cnnModel_1.add(layers.Flatten())\n",
        "\n",
        "# Layer 4\n",
        "cnnModel_1.add(layers.Dense(128, activation=\"softmax\" ))\n",
        "\n",
        "cnnModel_1.add(layers.Dense(2))\n",
        "\n",
        "cnnModel_1.summary()"
      ],
      "execution_count": 146,
      "outputs": [
        {
          "output_type": "stream",
          "text": [
            "Model: \"sequential_21\"\n",
            "_________________________________________________________________\n",
            "Layer (type)                 Output Shape              Param #   \n",
            "=================================================================\n",
            "conv2d_35 (Conv2D)           (None, 62, 62, 16)        448       \n",
            "_________________________________________________________________\n",
            "max_pooling2d_34 (MaxPooling (None, 31, 31, 16)        0         \n",
            "_________________________________________________________________\n",
            "conv2d_36 (Conv2D)           (None, 29, 29, 32)        4640      \n",
            "_________________________________________________________________\n",
            "max_pooling2d_35 (MaxPooling (None, 14, 14, 32)        0         \n",
            "_________________________________________________________________\n",
            "conv2d_37 (Conv2D)           (None, 12, 12, 64)        18496     \n",
            "_________________________________________________________________\n",
            "max_pooling2d_36 (MaxPooling (None, 6, 6, 64)          0         \n",
            "_________________________________________________________________\n",
            "flatten_18 (Flatten)         (None, 2304)              0         \n",
            "_________________________________________________________________\n",
            "dense_38 (Dense)             (None, 128)               295040    \n",
            "_________________________________________________________________\n",
            "dense_39 (Dense)             (None, 2)                 258       \n",
            "=================================================================\n",
            "Total params: 318,882\n",
            "Trainable params: 318,882\n",
            "Non-trainable params: 0\n",
            "_________________________________________________________________\n"
          ],
          "name": "stdout"
        }
      ]
    },
    {
      "cell_type": "code",
      "metadata": {
        "id": "tGu4A3wUgw-5"
      },
      "source": [
        "cnnModel_1.compile(loss=tf.keras.losses.categorical_crossentropy,\n",
        "              optimizer=tf.keras.optimizers.Adam(),\n",
        "              metrics=['accuracy'])"
      ],
      "execution_count": 147,
      "outputs": []
    },
    {
      "cell_type": "code",
      "metadata": {
        "colab": {
          "base_uri": "https://localhost:8080/"
        },
        "id": "peQ-N-EKgh3-",
        "outputId": "3f4541f6-4878-4372-f782-33b9db8415c4"
      },
      "source": [
        "history_1 = cnnModel_1.fit(train_generator, epochs=35, validation_data=validate_generator)"
      ],
      "execution_count": 153,
      "outputs": [
        {
          "output_type": "stream",
          "text": [
            "Epoch 1/35\n",
            "44/44 [==============================] - 9s 194ms/step - loss: 0.6930 - accuracy: 0.4866 - val_loss: 0.6927 - val_accuracy: 0.4855\n",
            "Epoch 2/35\n",
            "44/44 [==============================] - 8s 188ms/step - loss: 0.6930 - accuracy: 0.4866 - val_loss: 0.6927 - val_accuracy: 0.4855\n",
            "Epoch 3/35\n",
            "44/44 [==============================] - 8s 189ms/step - loss: 0.6932 - accuracy: 0.4866 - val_loss: 0.6927 - val_accuracy: 0.4855\n",
            "Epoch 4/35\n",
            "44/44 [==============================] - 9s 192ms/step - loss: 0.6929 - accuracy: 0.4866 - val_loss: 0.6927 - val_accuracy: 0.4855\n",
            "Epoch 5/35\n",
            "44/44 [==============================] - 9s 201ms/step - loss: 0.6934 - accuracy: 0.4866 - val_loss: 0.6929 - val_accuracy: 0.4855\n",
            "Epoch 6/35\n",
            "44/44 [==============================] - 9s 192ms/step - loss: 0.6930 - accuracy: 0.4866 - val_loss: 0.6927 - val_accuracy: 0.4855\n",
            "Epoch 7/35\n",
            "44/44 [==============================] - 9s 192ms/step - loss: 0.6930 - accuracy: 0.4866 - val_loss: 0.6928 - val_accuracy: 0.4855\n",
            "Epoch 8/35\n",
            "44/44 [==============================] - 9s 192ms/step - loss: 0.6930 - accuracy: 0.4866 - val_loss: 0.6928 - val_accuracy: 0.4855\n",
            "Epoch 9/35\n",
            "44/44 [==============================] - 8s 191ms/step - loss: 0.6929 - accuracy: 0.4866 - val_loss: 0.6927 - val_accuracy: 0.4855\n",
            "Epoch 10/35\n",
            "44/44 [==============================] - 9s 198ms/step - loss: 0.6931 - accuracy: 0.4866 - val_loss: 0.6929 - val_accuracy: 0.4855\n",
            "Epoch 11/35\n",
            "44/44 [==============================] - 9s 202ms/step - loss: 0.6933 - accuracy: 0.4866 - val_loss: 0.6927 - val_accuracy: 0.4855\n",
            "Epoch 12/35\n",
            "44/44 [==============================] - 8s 190ms/step - loss: 0.6931 - accuracy: 0.4866 - val_loss: 0.6927 - val_accuracy: 0.4855\n",
            "Epoch 13/35\n",
            "44/44 [==============================] - 8s 189ms/step - loss: 0.6931 - accuracy: 0.4866 - val_loss: 0.6927 - val_accuracy: 0.4855\n",
            "Epoch 14/35\n",
            "44/44 [==============================] - 8s 191ms/step - loss: 0.6941 - accuracy: 0.4866 - val_loss: 0.6928 - val_accuracy: 0.4855\n",
            "Epoch 15/35\n",
            "44/44 [==============================] - 9s 200ms/step - loss: 0.6930 - accuracy: 0.4866 - val_loss: 0.6928 - val_accuracy: 0.4855\n",
            "Epoch 16/35\n",
            "44/44 [==============================] - 8s 190ms/step - loss: 0.6929 - accuracy: 0.4866 - val_loss: 0.6928 - val_accuracy: 0.4855\n",
            "Epoch 17/35\n",
            "44/44 [==============================] - 8s 190ms/step - loss: 0.6933 - accuracy: 0.4866 - val_loss: 0.6928 - val_accuracy: 0.4855\n",
            "Epoch 18/35\n",
            "44/44 [==============================] - 8s 195ms/step - loss: 0.6936 - accuracy: 0.5243 - val_loss: 0.6929 - val_accuracy: 0.4855\n",
            "Epoch 19/35\n",
            "44/44 [==============================] - 9s 193ms/step - loss: 0.6933 - accuracy: 0.4866 - val_loss: 0.6927 - val_accuracy: 0.4855\n",
            "Epoch 20/35\n",
            "44/44 [==============================] - 8s 191ms/step - loss: 0.6931 - accuracy: 0.4866 - val_loss: 0.6928 - val_accuracy: 0.4855\n",
            "Epoch 21/35\n",
            "44/44 [==============================] - 9s 194ms/step - loss: 0.6931 - accuracy: 0.4866 - val_loss: 0.6929 - val_accuracy: 0.4855\n",
            "Epoch 22/35\n",
            "44/44 [==============================] - 9s 195ms/step - loss: 0.6937 - accuracy: 0.4866 - val_loss: 0.6928 - val_accuracy: 0.4855\n",
            "Epoch 23/35\n",
            "44/44 [==============================] - 8s 190ms/step - loss: 0.6931 - accuracy: 0.4866 - val_loss: 0.6929 - val_accuracy: 0.4855\n",
            "Epoch 24/35\n",
            "44/44 [==============================] - 9s 194ms/step - loss: 0.6934 - accuracy: 0.5054 - val_loss: 0.6931 - val_accuracy: 0.4855\n",
            "Epoch 25/35\n",
            "44/44 [==============================] - 9s 195ms/step - loss: 0.6931 - accuracy: 0.4866 - val_loss: 0.6927 - val_accuracy: 0.4855\n",
            "Epoch 26/35\n",
            "44/44 [==============================] - 8s 191ms/step - loss: 0.6930 - accuracy: 0.4866 - val_loss: 0.6927 - val_accuracy: 0.4855\n",
            "Epoch 27/35\n",
            "44/44 [==============================] - 8s 191ms/step - loss: 0.6931 - accuracy: 0.4866 - val_loss: 0.6927 - val_accuracy: 0.4855\n",
            "Epoch 28/35\n",
            "44/44 [==============================] - 8s 191ms/step - loss: 0.6932 - accuracy: 0.4866 - val_loss: 0.6927 - val_accuracy: 0.4855\n",
            "Epoch 29/35\n",
            "44/44 [==============================] - 9s 193ms/step - loss: 0.6929 - accuracy: 0.4866 - val_loss: 0.6928 - val_accuracy: 0.4855\n",
            "Epoch 30/35\n",
            "44/44 [==============================] - 9s 193ms/step - loss: 0.6931 - accuracy: 0.4866 - val_loss: 0.6928 - val_accuracy: 0.4855\n",
            "Epoch 31/35\n",
            "44/44 [==============================] - 9s 196ms/step - loss: 0.6934 - accuracy: 0.4866 - val_loss: 0.6927 - val_accuracy: 0.4855\n",
            "Epoch 32/35\n",
            "44/44 [==============================] - 8s 189ms/step - loss: 0.6929 - accuracy: 0.4866 - val_loss: 0.6928 - val_accuracy: 0.4855\n",
            "Epoch 33/35\n",
            "44/44 [==============================] - 8s 190ms/step - loss: 0.6934 - accuracy: 0.5098 - val_loss: 0.6929 - val_accuracy: 0.4855\n",
            "Epoch 34/35\n",
            "44/44 [==============================] - 9s 195ms/step - loss: 0.6932 - accuracy: 0.4866 - val_loss: 0.6927 - val_accuracy: 0.4855\n",
            "Epoch 35/35\n",
            "44/44 [==============================] - 9s 195ms/step - loss: 0.6933 - accuracy: 0.4866 - val_loss: 0.6930 - val_accuracy: 0.4855\n"
          ],
          "name": "stdout"
        }
      ]
    },
    {
      "cell_type": "code",
      "metadata": {
        "colab": {
          "base_uri": "https://localhost:8080/",
          "height": 587
        },
        "id": "QfOnbNh5hTin",
        "outputId": "8b175d59-c8cb-451f-9dbb-5d9dd02c17b8"
      },
      "source": [
        "epochs = 35\n",
        "# Plotting Accuracy and loss for teh default model\n",
        "acc = history_1.history['accuracy']\n",
        "val_acc = history_1.history['val_accuracy']\n",
        "loss = history_1.history['loss']\n",
        "val_loss = history_1.history['val_loss']\n",
        "\n",
        "print(acc)\n",
        "print(val_acc)\n",
        "print(loss)\n",
        "print(val_loss)\n",
        "\n",
        "epochs_range = range(epochs)\n",
        "\n",
        "plt.figure(figsize=(8, 8))\n",
        "plt.subplot(1, 2, 1)\n",
        "plt.plot(epochs_range, acc, label='Training Accuracy')\n",
        "plt.plot(epochs_range, val_acc, label='Validation Accuracy')\n",
        "plt.legend(loc='lower right')\n",
        "plt.title('Training and Validation Accuracy')\n",
        "\n",
        "plt.subplot(1, 2, 2)\n",
        "plt.plot(epochs_range, loss, label='Training Loss')\n",
        "plt.plot(epochs_range, val_loss, label='Validation Loss')\n",
        "plt.legend(loc='upper right')\n",
        "plt.title('Improved Model - Training and Validation Loss')\n",
        "plt.show()"
      ],
      "execution_count": 155,
      "outputs": [
        {
          "output_type": "stream",
          "text": [
            "[0.48660391569137573, 0.48660391569137573, 0.48660391569137573, 0.48660391569137573, 0.48660391569137573, 0.48660391569137573, 0.48660391569137573, 0.48660391569137573, 0.48660391569137573, 0.48660391569137573, 0.48660391569137573, 0.48660391569137573, 0.48660391569137573, 0.48660391569137573, 0.48660391569137573, 0.48660391569137573, 0.48660391569137573, 0.5242577791213989, 0.48660391569137573, 0.48660391569137573, 0.48660391569137573, 0.48660391569137573, 0.48660391569137573, 0.5054308176040649, 0.48660391569137573, 0.48660391569137573, 0.48660391569137573, 0.48660391569137573, 0.48660391569137573, 0.48660391569137573, 0.48660391569137573, 0.48660391569137573, 0.5097755193710327, 0.48660391569137573, 0.48660391569137573]\n",
            "[0.48554912209510803, 0.48554912209510803, 0.48554912209510803, 0.48554912209510803, 0.48554912209510803, 0.48554912209510803, 0.48554912209510803, 0.48554912209510803, 0.48554912209510803, 0.48554912209510803, 0.48554912209510803, 0.48554912209510803, 0.48554912209510803, 0.48554912209510803, 0.48554912209510803, 0.48554912209510803, 0.48554912209510803, 0.48554912209510803, 0.48554912209510803, 0.48554912209510803, 0.48554912209510803, 0.48554912209510803, 0.48554912209510803, 0.48554912209510803, 0.48554912209510803, 0.48554912209510803, 0.48554912209510803, 0.48554912209510803, 0.48554912209510803, 0.48554912209510803, 0.48554912209510803, 0.48554912209510803, 0.48554912209510803, 0.48554912209510803, 0.48554912209510803]\n",
            "[0.6930111646652222, 0.6930233240127563, 0.693248450756073, 0.6928980350494385, 0.6933959126472473, 0.6930211782455444, 0.6930435299873352, 0.6929583549499512, 0.6928623914718628, 0.6931476593017578, 0.6933361887931824, 0.6931482553482056, 0.6931166052818298, 0.6940906047821045, 0.6930165886878967, 0.6928980350494385, 0.6932902932167053, 0.6935632824897766, 0.6932955384254456, 0.693082332611084, 0.693060040473938, 0.6936649680137634, 0.6930829882621765, 0.6934011578559875, 0.6930931806564331, 0.693048894405365, 0.6931292414665222, 0.6932437419891357, 0.6929381489753723, 0.6931465268135071, 0.6934193968772888, 0.6928743720054626, 0.6933594346046448, 0.6932010054588318, 0.6933397650718689]\n",
            "[0.6927297711372375, 0.6927404999732971, 0.6927295327186584, 0.6927298307418823, 0.6928905248641968, 0.6927299499511719, 0.6928267478942871, 0.692760169506073, 0.6927374005317688, 0.6928797364234924, 0.6927416324615479, 0.6927403211593628, 0.6927452087402344, 0.6927908062934875, 0.692785382270813, 0.6927511692047119, 0.6927839517593384, 0.6928584575653076, 0.6927405595779419, 0.6927574276924133, 0.6929033994674683, 0.692793607711792, 0.6929418444633484, 0.693139374256134, 0.6927345395088196, 0.6927305459976196, 0.6927492618560791, 0.6927357316017151, 0.692771315574646, 0.6928436756134033, 0.6927416920661926, 0.6927670240402222, 0.6929324865341187, 0.6927422285079956, 0.6929540038108826]\n"
          ],
          "name": "stdout"
        },
        {
          "output_type": "display_data",
          "data": {
            "image/png": "[encoded data removed]",
            "text/plain": [
              "<Figure size 576x576 with 2 Axes>"
            ]
          },
          "metadata": {
            "tags": [],
            "needs_background": "light"
          }
        }
      ]
    },
    {
      "cell_type": "code",
      "metadata": {
        "colab": {
          "base_uri": "https://localhost:8080/"
        },
        "id": "7wyzT8aehtnZ",
        "outputId": "9d8f6418-b3ff-4b7b-da8c-9983e51b9ea7"
      },
      "source": [
        "df = pd.DataFrame(columns=['Actual', 'Predicted'])\n",
        "images = []\n",
        "rows_list = []\n",
        "def predictimages(folder_path, mask_type, df):\n",
        "  className = 'masked'\n",
        "  if mask_type == False:\n",
        "    className = 'unmasked'\n",
        "  folder_path += '/' + className\n",
        "  for img in os.listdir(folder_path):\n",
        "    img = os.path.join(folder_path, img)\n",
        "    img = keras.preprocessing.image.load_img(img, target_size=(64, 64))\n",
        "    img_array = keras.preprocessing.image.img_to_array(img)\n",
        "    img_array = tf.expand_dims(img_array, 0)\n",
        "    predictions = cnnModel_1.predict(img_array)\n",
        "    score = tf.nn.softmax(predictions[0])\n",
        "    rows_list.append({'Actual': mask_type, 'Predicted' : mask_type if (class_names[np.argmax(score)] == className) else (not mask_type)})\n",
        "\n",
        "folder_path = '/content/drive/My Drive/ML-CNN/dataset/test'\n",
        "mask_type = True\n",
        "predictimages(folder_path, mask_type, df)\n",
        "mask_type = False\n",
        "predictimages(folder_path, mask_type, df)\n",
        "df = pd.DataFrame(rows_list)\n",
        "\n",
        "print('---------------------------Accuracy Score----------------')\n",
        "print(accuracy_score(df['Actual'].tolist(),df['Predicted'].tolist()))\n",
        "print('---------------------------Confusion Matrix----------------')\n",
        "print(confusion_matrix(df['Actual'].tolist(),df['Predicted'].tolist()).ravel())\n",
        "print('---------------------------Precision Recall Fscore Support----------------')\n",
        "improved_precision, improved_recall, improved_fscore, improved_support = precision_recall_fscore_support(df['Actual'].tolist(),df['Predicted'].tolist(), average='macro')\n",
        "print(improved_precision, improved_recall, improved_fscore, improved_support)\n",
        "print('---------------------------Classification Report----------------')\n",
        "print(classification_report(df['Actual'].tolist(),df['Predicted'].tolist()))"
      ],
      "execution_count": 156,
      "outputs": [
        {
          "output_type": "stream",
          "text": [
            "---------------------------Accuracy Score----------------\n",
            "0.5\n",
            "---------------------------Confusion Matrix----------------\n",
            "[160   0 160   0]\n",
            "---------------------------Precision Recall Fscore Support----------------\n",
            "0.25 0.5 0.3333333333333333 None\n",
            "---------------------------Classification Report----------------\n",
            "              precision    recall  f1-score   support\n",
            "\n",
            "       False       0.50      1.00      0.67       160\n",
            "        True       0.00      0.00      0.00       160\n",
            "\n",
            "    accuracy                           0.50       320\n",
            "   macro avg       0.25      0.50      0.33       320\n",
            "weighted avg       0.25      0.50      0.33       320\n",
            "\n"
          ],
          "name": "stdout"
        },
        {
          "output_type": "stream",
          "text": [
            "/usr/local/lib/python3.6/dist-packages/sklearn/metrics/_classification.py:1272: UndefinedMetricWarning: Precision and F-score are ill-defined and being set to 0.0 in labels with no predicted samples. Use `zero_division` parameter to control this behavior.\n",
            "  _warn_prf(average, modifier, msg_start, len(result))\n"
          ],
          "name": "stderr"
        }
      ]
    },
    {
      "cell_type": "code",
      "metadata": {
        "colab": {
          "base_uri": "https://localhost:8080/",
          "height": 497
        },
        "id": "pN0MTc7rmWRi",
        "outputId": "c5379cfc-658e-4df2-dd33-c9c6264d6ede"
      },
      "source": [
        "# Plot precision and recall for default and improved model in a single bar plot\n",
        "fig, ax = plt.subplots(figsize=(10,8))\n",
        "bars1 = np.array([improved_precision, default_precision])*100\n",
        "bars2 = np.array([improved_recall, default_recall])*100\n",
        "bars = np.add(bars1, bars2).tolist()\n",
        "r = [0,1]\n",
        "names = ['Improved Model','Default Model']\n",
        "barWidth = 0.2\n",
        "plt.bar(r, bars2, bottom=bars1, color='#f4e511', edgecolor='white', width=barWidth, label=\"Recall\")\n",
        "plt.bar(r, bars1, color='#4c4376', edgecolor='white', width=barWidth, label=\"Precision\")\n",
        "plt.xticks(r, names, fontweight='bold')\n",
        "plt.xlabel(\"Model - Precision and Recall\")\n",
        "plt.legend(loc=\"center\")\n",
        "plt.show()"
      ],
      "execution_count": 157,
      "outputs": [
        {
          "output_type": "display_data",
          "data": {
            "image/png": "[encoded data removed]",
            "text/plain": [
              "<Figure size 720x576 with 1 Axes>"
            ]
          },
          "metadata": {
            "tags": [],
            "needs_background": "light"
          }
        }
      ]
    },
    {
      "cell_type": "code",
      "metadata": {
        "id": "f9yjGyzfnfug"
      },
      "source": [
        ""
      ],
      "execution_count": null,
      "outputs": []
    }
  ]
}