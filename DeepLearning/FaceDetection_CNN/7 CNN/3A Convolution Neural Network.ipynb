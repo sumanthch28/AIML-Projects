{
 "cells": [
  {
   "cell_type": "markdown",
   "metadata": {},
   "source": [
    "# Convolutional Neural Network"
   ]
  },
  {
   "cell_type": "code",
   "execution_count": 1,
   "metadata": {},
   "outputs": [],
   "source": [
    "# Import Libraries\n",
    "# - Tensorflow\n",
    "# - Keras\n",
    "# - numpy and random\n",
    "\n",
    "import tensorflow as tf\n",
    "from tensorflow.keras import models\n",
    "from tensorflow.keras import layers\n",
    "\n",
    "import random\n",
    "import numpy as np\n",
    "\n",
    "import matplotlib.pyplot as plt\n",
    "%matplotlib inline"
   ]
  },
  {
   "cell_type": "code",
   "execution_count": 2,
   "metadata": {},
   "outputs": [],
   "source": [
    "random.seed(42)         # Initialize the random number generator.\n",
    "np.random.seed(42)      # With the seed reset, the same set of numbers will appear every time. \n",
    "tf.set_random_seed(42)  # sets the graph-level random seed"
   ]
  },
  {
   "cell_type": "markdown",
   "metadata": {},
   "source": [
    "## Dataset - MNIST"
   ]
  },
  {
   "cell_type": "code",
   "execution_count": 3,
   "metadata": {},
   "outputs": [
    {
     "name": "stdout",
     "output_type": "stream",
     "text": [
      "(60000, 28, 28, 1) (10000, 28, 28, 1)\n",
      "(60000, 10) (10000, 10)\n"
     ]
    }
   ],
   "source": [
    "# Use the MNIST dataset  of Keras.\n",
    "\n",
    "mnist = tf.keras.datasets.mnist\n",
    "\n",
    "(Xtrain, Ytrain), (Xtest,Ytest) = mnist.load_data()\n",
    "\n",
    "# Display size of dataset\n",
    "Xtrain = Xtrain.reshape((60000,28,28,1))\n",
    "Xtrain = Xtrain.astype('float32')/255\n",
    "\n",
    "Xtest = Xtest.reshape((10000,28,28,1))\n",
    "Xtest = Xtest.astype('float32')/255\n",
    "\n",
    "Ytrain = tf.keras.utils.to_categorical(Ytrain)\n",
    "Ytest = tf.keras.utils.to_categorical(Ytest) \n",
    "\n",
    "print(Xtrain.shape, Xtest.shape)\n",
    "print(Ytrain.shape, Ytest.shape)"
   ]
  },
  {
   "cell_type": "markdown",
   "metadata": {},
   "source": [
    "## Create a CNN Model"
   ]
  },
  {
   "cell_type": "code",
   "execution_count": 4,
   "metadata": {},
   "outputs": [
    {
     "name": "stdout",
     "output_type": "stream",
     "text": [
      "WARNING:tensorflow:From C:\\Anaconda3\\lib\\site-packages\\tensorflow\\python\\ops\\init_ops.py:1251: calling VarianceScaling.__init__ (from tensorflow.python.ops.init_ops) with dtype is deprecated and will be removed in a future version.\n",
      "Instructions for updating:\n",
      "Call initializer instance with the dtype argument instead of passing it to the constructor\n",
      "Model: \"sequential\"\n",
      "_________________________________________________________________\n",
      "Layer (type)                 Output Shape              Param #   \n",
      "=================================================================\n",
      "conv2d (Conv2D)              (None, 26, 26, 32)        320       \n",
      "_________________________________________________________________\n",
      "max_pooling2d (MaxPooling2D) (None, 13, 13, 32)        0         \n",
      "_________________________________________________________________\n",
      "conv2d_1 (Conv2D)            (None, 11, 11, 64)        18496     \n",
      "_________________________________________________________________\n",
      "max_pooling2d_1 (MaxPooling2 (None, 5, 5, 64)          0         \n",
      "_________________________________________________________________\n",
      "conv2d_2 (Conv2D)            (None, 3, 3, 64)          36928     \n",
      "_________________________________________________________________\n",
      "flatten (Flatten)            (None, 576)               0         \n",
      "_________________________________________________________________\n",
      "dense (Dense)                (None, 64)                36928     \n",
      "_________________________________________________________________\n",
      "dense_1 (Dense)              (None, 32)                2080      \n",
      "_________________________________________________________________\n",
      "dense_2 (Dense)              (None, 10)                330       \n",
      "=================================================================\n",
      "Total params: 95,082\n",
      "Trainable params: 95,082\n",
      "Non-trainable params: 0\n",
      "_________________________________________________________________\n"
     ]
    }
   ],
   "source": [
    "# Create a Sequential model object\n",
    "cnnModel = models.Sequential()\n",
    "\n",
    "# Add layers Conv2D for CNN and sepcify MaxPooling\n",
    "\n",
    "# Layer 1 = input layer\n",
    "cnnModel.add(layers.Conv2D(32, (3,3), activation=\"relu\", input_shape=(28,28,1) ))\n",
    "\n",
    "cnnModel.add(layers.MaxPooling2D((2,2)))\n",
    "\n",
    "\n",
    "# Layer 2\n",
    "cnnModel.add(layers.Conv2D(64, (3,3), activation=\"relu\"))\n",
    "\n",
    "cnnModel.add(layers.MaxPooling2D((2,2)))\n",
    "\n",
    "\n",
    "# Layer 3\n",
    "cnnModel.add(layers.Conv2D(64, (3,3), activation=\"relu\" ))\n",
    "\n",
    "cnnModel.add(layers.Flatten())\n",
    "\n",
    "\n",
    "# Add Dense layers or fully connected layers\n",
    "# Layer 4\n",
    "cnnModel.add(layers.Dense(64, activation=\"relu\" ))\n",
    "\n",
    "# Layer 5\n",
    "cnnModel.add(layers.Dense(32, activation=\"relu\" ))\n",
    "\n",
    "# Layer 6\n",
    "cnnModel.add(layers.Dense(10, activation=\"softmax\" ))\n",
    "\n",
    "cnnModel.summary()\n"
   ]
  },
  {
   "cell_type": "code",
   "execution_count": 5,
   "metadata": {},
   "outputs": [],
   "source": [
    "# Configure  the model for training, by using appropriate optimizers and regularizations\n",
    "# Available optimizer: adam, rmsprop, adagrad, sgd\n",
    "# loss:  objective that the model will try to minimize. \n",
    "# Available loss: categorical_crossentropy, binary_crossentropy, mean_squared_error\n",
    "# metrics: List of metrics to be evaluated by the model during training and testing. \n",
    "\n",
    "cnnModel.compile(optimizer = \"adam\", loss = \"categorical_crossentropy\", metrics = [\"accuracy\"])\n"
   ]
  },
  {
   "cell_type": "code",
   "execution_count": 6,
   "metadata": {},
   "outputs": [
    {
     "name": "stdout",
     "output_type": "stream",
     "text": [
      "Train on 54000 samples, validate on 6000 samples\n",
      "Epoch 1/25\n",
      "54000/54000 [==============================] - 23s 435us/sample - loss: 0.2381 - acc: 0.9252 - val_loss: 0.0729 - val_acc: 0.9772\n",
      "Epoch 2/25\n",
      "54000/54000 [==============================] - 23s 425us/sample - loss: 0.0630 - acc: 0.9807 - val_loss: 0.0410 - val_acc: 0.9873\n",
      "Epoch 3/25\n",
      "54000/54000 [==============================] - 22s 412us/sample - loss: 0.0440 - acc: 0.9862 - val_loss: 0.0402 - val_acc: 0.9895\n",
      "Epoch 4/25\n",
      "54000/54000 [==============================] - 23s 421us/sample - loss: 0.0346 - acc: 0.9890 - val_loss: 0.0461 - val_acc: 0.9867\n",
      "Epoch 5/25\n",
      "54000/54000 [==============================] - 23s 423us/sample - loss: 0.0279 - acc: 0.9914 - val_loss: 0.0394 - val_acc: 0.9885\n",
      "Epoch 6/25\n",
      "54000/54000 [==============================] - 23s 419us/sample - loss: 0.0218 - acc: 0.9931 - val_loss: 0.0397 - val_acc: 0.9877\n",
      "Epoch 7/25\n",
      "54000/54000 [==============================] - 23s 420us/sample - loss: 0.0197 - acc: 0.9935 - val_loss: 0.0341 - val_acc: 0.9900\n",
      "Epoch 8/25\n",
      "54000/54000 [==============================] - 22s 417us/sample - loss: 0.0159 - acc: 0.9949 - val_loss: 0.0447 - val_acc: 0.9887\n",
      "Epoch 9/25\n",
      "54000/54000 [==============================] - 23s 418us/sample - loss: 0.0150 - acc: 0.9953 - val_loss: 0.0386 - val_acc: 0.9903\n",
      "Epoch 10/25\n",
      "54000/54000 [==============================] - 22s 414us/sample - loss: 0.0112 - acc: 0.9963 - val_loss: 0.0368 - val_acc: 0.9908\n",
      "Epoch 11/25\n",
      "54000/54000 [==============================] - 22s 412us/sample - loss: 0.0113 - acc: 0.9960 - val_loss: 0.0283 - val_acc: 0.9932\n",
      "Epoch 12/25\n",
      "54000/54000 [==============================] - 23s 423us/sample - loss: 0.0097 - acc: 0.9968 - val_loss: 0.0427 - val_acc: 0.9905\n",
      "Epoch 13/25\n",
      "54000/54000 [==============================] - 23s 420us/sample - loss: 0.0082 - acc: 0.9973 - val_loss: 0.0394 - val_acc: 0.9913\n",
      "Epoch 14/25\n",
      "54000/54000 [==============================] - 23s 426us/sample - loss: 0.0094 - acc: 0.9968 - val_loss: 0.0388 - val_acc: 0.9903\n",
      "Epoch 15/25\n",
      "54000/54000 [==============================] - 23s 423us/sample - loss: 0.0073 - acc: 0.9975 - val_loss: 0.0351 - val_acc: 0.9917\n",
      "Epoch 16/25\n",
      "54000/54000 [==============================] - 23s 428us/sample - loss: 0.0051 - acc: 0.9984 - val_loss: 0.0409 - val_acc: 0.9910\n",
      "Epoch 17/25\n",
      "54000/54000 [==============================] - 23s 427us/sample - loss: 0.0067 - acc: 0.9979 - val_loss: 0.0380 - val_acc: 0.9913\n",
      "Epoch 18/25\n",
      "54000/54000 [==============================] - 23s 424us/sample - loss: 0.0053 - acc: 0.9985 - val_loss: 0.0487 - val_acc: 0.9917\n",
      "Epoch 19/25\n",
      "54000/54000 [==============================] - 23s 434us/sample - loss: 0.0060 - acc: 0.9979 - val_loss: 0.0507 - val_acc: 0.9892\n",
      "Epoch 20/25\n",
      "54000/54000 [==============================] - 23s 432us/sample - loss: 0.0049 - acc: 0.9985 - val_loss: 0.0485 - val_acc: 0.9913\n",
      "Epoch 21/25\n",
      "54000/54000 [==============================] - 23s 429us/sample - loss: 0.0067 - acc: 0.9978 - val_loss: 0.0498 - val_acc: 0.9918\n",
      "Epoch 22/25\n",
      "54000/54000 [==============================] - 23s 426us/sample - loss: 0.0062 - acc: 0.9978 - val_loss: 0.0415 - val_acc: 0.9927\n",
      "Epoch 23/25\n",
      "54000/54000 [==============================] - 23s 435us/sample - loss: 0.0045 - acc: 0.9983 - val_loss: 0.0460 - val_acc: 0.9917\n",
      "Epoch 24/25\n",
      "54000/54000 [==============================] - 24s 438us/sample - loss: 0.0039 - acc: 0.9987 - val_loss: 0.0644 - val_acc: 0.9900\n",
      "Epoch 25/25\n",
      "54000/54000 [==============================] - 25s 460us/sample - loss: 0.0041 - acc: 0.9986 - val_loss: 0.0540 - val_acc: 0.9902\n"
     ]
    }
   ],
   "source": [
    "# train the model\n",
    "\n",
    "history = cnnModel.fit(Xtrain, Ytrain, epochs = 25, batch_size = 64, validation_split = 0.1)"
   ]
  },
  {
   "cell_type": "code",
   "execution_count": 7,
   "metadata": {},
   "outputs": [
    {
     "name": "stdout",
     "output_type": "stream",
     "text": [
      "Final training loss \t 0.004080491340738448\n",
      "Final training accuracy  0.99855554\n"
     ]
    }
   ],
   "source": [
    "print('Final training loss \\t', history.history['loss'][-1])\n",
    "print('Final training accuracy ', history.history['acc'][-1])"
   ]
  },
  {
   "cell_type": "markdown",
   "metadata": {},
   "source": [
    "## Results and Outputs"
   ]
  },
  {
   "cell_type": "code",
   "execution_count": 8,
   "metadata": {},
   "outputs": [
    {
     "name": "stdout",
     "output_type": "stream",
     "text": [
      "10000/10000 [==============================] - 1s 147us/sample - loss: 0.0466 - acc: 0.9911\n"
     ]
    }
   ],
   "source": [
    "# testing the model\n",
    "\n",
    "testLoss, testAccuracy = cnnModel.evaluate( Xtest, Ytest)"
   ]
  },
  {
   "cell_type": "code",
   "execution_count": 9,
   "metadata": {},
   "outputs": [
    {
     "name": "stdout",
     "output_type": "stream",
     "text": [
      "Testing loss \t 0.04660058710629925\n",
      "Testing accuracy  0.9911\n"
     ]
    }
   ],
   "source": [
    "print('Testing loss \\t', testLoss)\n",
    "print('Testing accuracy ', testAccuracy)"
   ]
  },
  {
   "cell_type": "code",
   "execution_count": 10,
   "metadata": {},
   "outputs": [
    {
     "data": {
      "image/png": "[encoded data removed]",
      "text/plain": [
       "<Figure size 432x288 with 1 Axes>"
      ]
     },
     "metadata": {
      "needs_background": "light"
     },
     "output_type": "display_data"
    }
   ],
   "source": [
    "# shows the weights in layer 0 conv2d as gray map\n",
    "top_layer = cnnModel.layers[0]\n",
    "plt.imshow(top_layer.get_weights()[0][:, :, :, 0].squeeze(), cmap='gray')\n",
    "plt.show()"
   ]
  },
  {
   "cell_type": "code",
   "execution_count": 11,
   "metadata": {},
   "outputs": [
    {
     "data": {
      "image/png": "[encoded data removed]",
      "text/plain": [
       "<Figure size 432x288 with 1 Axes>"
      ]
     },
     "metadata": {
      "needs_background": "light"
     },
     "output_type": "display_data"
    },
    {
     "data": {
      "image/png": "[encoded data removed]",
      "text/plain": [
       "<Figure size 432x288 with 1 Axes>"
      ]
     },
     "metadata": {
      "needs_background": "light"
     },
     "output_type": "display_data"
    }
   ],
   "source": [
    "# plotting training and validation loss\n",
    "\n",
    "loss = history.history['loss']\n",
    "val_loss = history.history['val_loss']\n",
    "epochs = range(1, len(loss) + 1)\n",
    "plt.plot(epochs, loss, color='red', label='Training loss')\n",
    "plt.plot(epochs, val_loss, color='green', label='Validation loss')\n",
    "plt.title('Training and Validation loss')\n",
    "plt.xlabel('Epochs')\n",
    "plt.ylabel('Loss')\n",
    "plt.legend()\n",
    "plt.show()\n",
    "\n",
    "# plotting training and validation accuracy\n",
    "\n",
    "acc = history.history['acc']\n",
    "val_acc = history.history['val_acc']\n",
    "plt.plot(epochs, acc, color='red', label='Training acc')\n",
    "plt.plot(epochs, val_acc, color='green', label='Validation acc')\n",
    "plt.title('Training and Validation accuracy')\n",
    "plt.xlabel('Epochs')\n",
    "plt.ylabel('Loss')\n",
    "plt.legend()\n",
    "plt.show()"
   ]
  },
  {
   "cell_type": "markdown",
   "metadata": {},
   "source": [
    "## Confusion Matrix generation"
   ]
  },
  {
   "cell_type": "markdown",
   "metadata": {},
   "source": [
    "### Prediction for a specific testing data generte confusion matrix"
   ]
  },
  {
   "cell_type": "code",
   "execution_count": 12,
   "metadata": {},
   "outputs": [],
   "source": [
    "Y_prediction = cnnModel.predict(Xtest)\n",
    "\n",
    "# Convert predictions classes to one hot vectors \n",
    "Y_pred_classes = np.argmax(Y_prediction, axis = 1) \n",
    "\n",
    "# Convert validation observations to one hot vectors\n",
    "Y_true = np.argmax(Ytest,axis = 1) \n",
    "\n"
   ]
  },
  {
   "cell_type": "code",
   "execution_count": 13,
   "metadata": {},
   "outputs": [
    {
     "name": "stdout",
     "output_type": "stream",
     "text": [
      "              precision    recall  f1-score   support\n",
      "\n",
      "           0       0.99      1.00      0.99       980\n",
      "           1       0.99      1.00      1.00      1135\n",
      "           2       0.99      1.00      0.99      1032\n",
      "           3       0.99      0.99      0.99      1010\n",
      "           4       0.99      0.99      0.99       982\n",
      "           5       0.98      0.99      0.99       892\n",
      "           6       0.99      0.99      0.99       958\n",
      "           7       0.99      0.99      0.99      1028\n",
      "           8       1.00      0.99      0.99       974\n",
      "           9       0.99      0.98      0.99      1009\n",
      "\n",
      "   micro avg       0.99      0.99      0.99     10000\n",
      "   macro avg       0.99      0.99      0.99     10000\n",
      "weighted avg       0.99      0.99      0.99     10000\n",
      "\n"
     ]
    }
   ],
   "source": [
    "# Classification Report\n",
    "\n",
    "from sklearn.metrics import classification_report \n",
    "\n",
    "print(classification_report(Y_true, Y_pred_classes))"
   ]
  },
  {
   "cell_type": "code",
   "execution_count": 14,
   "metadata": {},
   "outputs": [
    {
     "data": {
      "image/png": "[encoded data removed]",
      "text/plain": [
       "<Figure size 720x576 with 2 Axes>"
      ]
     },
     "metadata": {
      "needs_background": "light"
     },
     "output_type": "display_data"
    }
   ],
   "source": [
    "# confusion matrix\n",
    "from sklearn.metrics import confusion_matrix\n",
    "import seaborn as sns\n",
    "\n",
    "# compute the confusion matrix\n",
    "confusion_mtx = confusion_matrix(Y_true, Y_pred_classes) \n",
    "\n",
    "plt.figure(figsize=(10,8))\n",
    "sns.heatmap(confusion_mtx, annot=True, fmt=\"d\");"
   ]
  },
  {
   "cell_type": "markdown",
   "metadata": {},
   "source": [
    "Modify the code to get a better testing accuracy.\n",
    "- Change the number of hidden units\n",
    "- Increase the number of hidden layers\n",
    "- Use a different optimizer\n",
    "- Train for more epochs for better graphs\n",
    "\n",
    "- Try using CIFAR dataset"
   ]
  }
 ],
 "metadata": {
  "kernelspec": {
   "display_name": "Python 3",
   "language": "python",
   "name": "python3"
  },
  "language_info": {
   "codemirror_mode": {
    "name": "ipython",
    "version": 3
   },
   "file_extension": ".py",
   "mimetype": "text/x-python",
   "name": "python",
   "nbconvert_exporter": "python",
   "pygments_lexer": "ipython3",
   "version": "3.7.3"
  }
 },
 "nbformat": 4,
 "nbformat_minor": 2
}
