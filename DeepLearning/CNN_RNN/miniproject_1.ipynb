{
 "cells": [
  {
   "cell_type": "markdown",
   "metadata": {},
   "source": [
    "# Problem :\n",
    "\n",
    "IMDB movie review sentiment classification problem. Each movie review is a variable sequence of words and the sentiment of each movie review must be classified. The IMDB Movie Review Dataset contains 25,000 highly-polar movie reviews (good or bad) for training and the same amount again for testing. The problem is to determine whether a given movie review has a positive or negative sentiment. Keras provides access to the IMDB dataset built-in. The imdb.load_data() function allows you to load the dataset in a format that is ready for use in neural network and deep learning models. The words have been replaced by integers that indicate the ordered frequency of each word in the dataset. The sentences in each review are therefore comprised of a sequence of integers."
   ]
  },
  {
   "cell_type": "markdown",
   "metadata": {},
   "source": [
    "# Why CNN with LSTM for text Classifcation\n",
    "\n",
    "CNNs are generally used in computer vision, however they’ve recently been applied to various NLP tasks and the results were promising.\n",
    "Let’s briefly see what happens when we use CNN on text data through a diagram.The result of each convolution will fire when a special pattern is detected. By varying the size of the kernels and concatenating their outputs, you’re allowing yourself to detect patterns of multiples sizes (2, 3, or 5 adjacent words).Patterns could be expressions (word ngrams?) like “I hate”, “very good” and therefore CNNs can identify them in the sentence regardless of their position.\n",
    "Recurrent neural networks can obtain context information but the order of words will lead to bias; the text analysis method based on Convolutional neural network (CNN) can obtain important features of text through pooling but it is difficult to obtain contextual information which can be leverage using LSTM. So using the combination of CNN with LSTM could give us some intresting results"
   ]
  },
  {
   "cell_type": "markdown",
   "metadata": {},
   "source": [
    "# Develop an text classification model based on CNN + LSTM in Keras.\n",
    "\n",
    "In this assignment, you will have to train two Text classification:\n",
    "1) LSTM based Text Classification\n",
    "2) CNN + LSTM based Text Classification\n",
    "\n",
    "After training the two different classification, you have to compare the accuracy on both of the model trained and report the best accuracy for which of them.\n",
    "\n",
    "This notebook is divided into six parts. Total : [8 Marks]\n",
    "\n",
    "1. Import the required Libraires [1 Mark]\n",
    "2. Implement the LSTM model [2 Marks]\n",
    "3. Calculate the LSTM model accuracy [1 Mark]\n",
    "4. Implement the CNN + LSTM [3 Marks]\n",
    "5. Calculate the CNN + LSTM model accuracy [1 Mark]"
   ]
  },
  {
   "cell_type": "code",
   "execution_count": 1,
   "metadata": {},
   "outputs": [
    {
     "name": "stderr",
     "output_type": "stream",
     "text": [
      "Using TensorFlow backend.\n"
     ]
    }
   ],
   "source": [
    "import numpy as np\n",
    "from sklearn.model_selection import train_test_split\n",
    "from keras.datasets import imdb\n",
    "\n",
    "#import the required library\n",
    "\n",
    "# Student will have to code here\n",
    "\n",
    "\n",
    "# Students will end their code here"
   ]
  },
  {
   "cell_type": "code",
   "execution_count": 2,
   "metadata": {},
   "outputs": [
    {
     "name": "stdout",
     "output_type": "stream",
     "text": [
      "Shape of train data: (20000,)\n",
      "Shape of Test data: (25000,)\n",
      "Shape of CV data: (5000,)\n"
     ]
    }
   ],
   "source": [
    "# load the dataset but only keep the top n words, zero the rest\n",
    "top_words = 10000\n",
    "\n",
    "import numpy as np\n",
    "\n",
    "np.load.__defaults__=(None, True, True, 'ASCII')\n",
    "\n",
    "# call load_data with allow_pickle implicitly set to true\n",
    "(X_train, y_train), (X_test, y_test) = imdb.load_data(num_words=10000)\n",
    "\n",
    "X_train,X_cv,y_train,y_cv = train_test_split(X_train,y_train,test_size = 0.2)\n",
    "print(\"Shape of train data:\", X_train.shape)\n",
    "print(\"Shape of Test data:\", X_test.shape)\n",
    "print(\"Shape of CV data:\", X_cv.shape)\n",
    "\n",
    "# truncate and pad input sequences\n",
    "max_review_length = 600\n",
    "X_train = sequence.pad_sequences(X_train, maxlen=max_review_length)\n",
    "X_test = sequence.pad_sequences(X_test, maxlen=max_review_length)\n",
    "X_cv = sequence.pad_sequences(X_cv,maxlen=max_review_length)"
   ]
  },
  {
   "cell_type": "code",
   "execution_count": 3,
   "metadata": {},
   "outputs": [
    {
     "data": {
      "text/plain": [
       "array([0, 0, 0, 0, 1])"
      ]
     },
     "execution_count": 3,
     "metadata": {},
     "output_type": "execute_result"
    }
   ],
   "source": [
    "y_train[0:5]"
   ]
  },
  {
   "cell_type": "code",
   "execution_count": 4,
   "metadata": {},
   "outputs": [
    {
     "name": "stdout",
     "output_type": "stream",
     "text": [
      "# # # # # # # # # # # # # # # # # # # # # # # # # # # # # # # # # # # # # # # # # # # # # # # # # # # # # # # # # # # # # # # # # # # # # # # # # # # # # # # # # # # # # # # # # # # # # # # # # # # # # # # # # # # # # # # # # # # # # # # # # # # # # # # # # # # # # # # # # # # # # # # # # # # # # # # # # # # # # # # # # # # # # # # # # # # # # # # # # # # # # # # # # # # # # # # # # # # # # # # # # # # # # # # # # # # # # # # # # # # # # # # # # # # # # # few movies have # expectations and upset me as much as fire has the movie is pretentious garbage it does not achieve anything at an artistic level the only thing it managed to receive is a # in india if only it was because of the poor quality of film making rather than the # controversy the # would have been more # br br now that i've got my distress out of my system i am more able to # the movie br br from the # the movie feels unreal especially when the protagonists start # in english the director of course did not make the movie for an indian audience however it # its international audiences by over # it watching the character of the domestic help # in perfect english is too unreal to be true br br next we get regular glimpses into # dreams these scenes are not very effective they coming up as jarring and # the flow of the movie i'm still wondering how that philosophical dialogue connected to the story i felt that the # was lost br br the love scenes felt # and are probably meant for audience # rather than being a powerful statement in any case they do not achieve either of the two br br the names chosen for the women # and # are names of # # and hence been selected to shock the audiences however since the film wasn't meant for indian audiences in the first place the shock through name selection is not meant to achieve its goal which is absurd br br the quality of direction is very poor and some key and delicate scenes have been poorly handled a better director could have made a powerful emotional drama out of the subject br br the acting felt wooden although # # brought some life into the role the others were wasted i always thought that # # was a good actress but her talent is not evident in this film the male leads were outright rubbish br br in case you are a fan of earth and wish to see more of the director stay away from this one please\n"
     ]
    }
   ],
   "source": [
    "# Decoding the data coded data of IMDB ( Data Understanding )\n",
    "index = imdb.get_word_index()\n",
    "reverse_index = dict([(value, key) for (key, value) in index.items()]) \n",
    "decoded = \" \".join( [reverse_index.get(i - 3, \"#\") for i in X_train[0]] )\n",
    "print(decoded) \n",
    "\n"
   ]
  },
  {
   "cell_type": "code",
   "execution_count": 5,
   "metadata": {},
   "outputs": [
    {
     "data": {
      "image/png": "[encoded data removed]",
      "text/plain": [
       "<IPython.core.display.Image object>"
      ]
     },
     "execution_count": 5,
     "metadata": {},
     "output_type": "execute_result"
    }
   ],
   "source": [
    "# Architecture Diagram for LSTM Based Classifcation but you will have to change the\n",
    "# configuration/model parameters while implementing it depending on the input , output and the \n",
    "# Problem statement.\n",
    "\n",
    "from IPython.display import Image\n",
    "Image(filename='LSTM_model.png')\n"
   ]
  },
  {
   "cell_type": "code",
   "execution_count": 8,
   "metadata": {
    "scrolled": true
   },
   "outputs": [
    {
     "name": "stdout",
     "output_type": "stream",
     "text": [
      "Model: \"sequential_1\"\n",
      "_________________________________________________________________\n",
      "Layer (type)                 Output Shape              Param #   \n",
      "=================================================================\n",
      "embedding_1 (Embedding)      (None, 600, 32)           320000    \n",
      "_________________________________________________________________\n",
      "lstm_1 (LSTM)                (None, 100)               53200     \n",
      "_________________________________________________________________\n",
      "dense_1 (Dense)              (None, 1)                 101       \n",
      "=================================================================\n",
      "Total params: 373,301\n",
      "Trainable params: 373,301\n",
      "Non-trainable params: 0\n",
      "_________________________________________________________________\n",
      "None\n",
      "Train on 20000 samples, validate on 5000 samples\n",
      "20000/20000 [==============================] - 180s 9ms/sample - loss: 0.6874 - accuracy: 0.5656 - val_loss: 0.6704 - val_accuracy: 0.6462\n"
     ]
    },
    {
     "data": {
      "text/plain": [
       "<tensorflow.python.keras.callbacks.History at 0x7f863ea83080>"
      ]
     },
     "execution_count": 8,
     "metadata": {},
     "output_type": "execute_result"
    }
   ],
   "source": [
    "import tensorflow as tf\n",
    "\n",
    "embedding_vector_length = 32\n",
    "model = tf.keras.Sequential()\n",
    "\n",
    "# Write the code for LSTM Based Classifcation\n",
    "# Embedding layer\n",
    "# LSTM Layer : You are free to choose the hyperparameters and the number of layers\n",
    "# Dense Layer\n",
    "\n",
    "# Students will be starting their code from here:\n",
    "\n",
    "\n",
    "# Students will be ending their code here\n",
    "\n",
    "model.compile(loss='binary_crossentropy', optimizer='adam', metrics=['accuracy'])\n",
    "print(model.summary())\n",
    "\n",
    "# Change the number of epochs and the batch size depending on the RAM Size\n",
    "\n",
    "model.fit(X_train, y_train, epochs=5, batch_size=64,verbose = 1,validation_data=(X_cv,y_cv))\n"
   ]
  },
  {
   "cell_type": "code",
   "execution_count": 9,
   "metadata": {},
   "outputs": [],
   "source": [
    "# Final evaluation of the model using test dataset\n",
    "# Students will be starting their code from here:\n",
    "\n"
   ]
  },
  {
   "cell_type": "code",
   "execution_count": 10,
   "metadata": {},
   "outputs": [
    {
     "data": {
      "image/png": "[encoded data removed]",
      "text/plain": [
       "<IPython.core.display.Image object>"
      ]
     },
     "execution_count": 10,
     "metadata": {},
     "output_type": "execute_result"
    }
   ],
   "source": [
    "# High Level Model Architecture\n",
    "from IPython.display import Image\n",
    "Image(filename='1_VGtBedNuZyX9E-07gnm2Yg.png')\n"
   ]
  },
  {
   "cell_type": "code",
   "execution_count": null,
   "metadata": {},
   "outputs": [],
   "source": [
    "# create the model\n",
    "embedding_vector_length = 32\n",
    "model = Sequential()\n",
    "\n",
    "# Students will be starting their code from here:\n",
    "\n",
    "# Write the code for LSTM Based Classifcation\n",
    "# Embedding layer\n",
    "# Convolution-1D Layer : You are free to choose the hyperparameters and the number of layers\n",
    "# LSTM Layer : You are free to choose the hyperparameters and the number of layers\n",
    "# Dense Layer\n",
    "\n",
    "\n",
    "# Students will be ending their code here\n",
    "\n",
    "model.compile(loss='binary_crossentropy', optimizer='adam', metrics=['accuracy'])\n",
    "print(model.summary())\n",
    "\n",
    "# Change the number of epochs and the batch size depending on the RAM Size\n",
    "\n",
    "model.fit(X_train, y_train, epochs=5, batch_size=64,verbose = 1,validation_data=(X_cv,y_cv))\n"
   ]
  },
  {
   "cell_type": "code",
   "execution_count": null,
   "metadata": {},
   "outputs": [],
   "source": [
    "# Final evaluation of the CNN + RNN model using the test data\n",
    "# Students will be starting their code from here:\n"
   ]
  },
  {
   "cell_type": "code",
   "execution_count": null,
   "metadata": {},
   "outputs": [],
   "source": []
  },
  {
   "cell_type": "code",
   "execution_count": null,
   "metadata": {},
   "outputs": [],
   "source": []
  },
  {
   "cell_type": "code",
   "execution_count": null,
   "metadata": {},
   "outputs": [],
   "source": []
  }
 ],
 "metadata": {
  "kernelspec": {
   "display_name": "Python 3",
   "language": "python",
   "name": "python3"
  },
  "language_info": {
   "codemirror_mode": {
    "name": "ipython",
    "version": 3
   },
   "file_extension": ".py",
   "mimetype": "text/x-python",
   "name": "python",
   "nbconvert_exporter": "python",
   "pygments_lexer": "ipython3",
   "version": "3.5.2"
  }
 },
 "nbformat": 4,
 "nbformat_minor": 2
}
