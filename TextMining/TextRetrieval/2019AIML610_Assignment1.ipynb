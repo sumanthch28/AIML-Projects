{
 "cells": [
  {
   "cell_type": "markdown",
   "metadata": {},
   "source": [
    "# Text Retrieval\n",
    "There are 2 standard models for retrieving text data.\n",
    "1. Boolean Retrieval Model\n",
    "2. Vector Space Model\n",
    "\n",
    "The aim of any information retrieval model is to retrieve documents related to a query."
   ]
  },
  {
   "cell_type": "markdown",
   "metadata": {},
   "source": [
    "## 1. Boolean Retrieval Model\n",
    "In this model we consider every query and document as a set of words and we retrieve a document if and only if the query word is present in it. Model can be extended to support complex queries with boolean operators.\n",
    "\n",
    "In this assignment we are going to implement both the models, using scikit-learn package. We are going to use song lyrics dataset.\n",
    "\n",
    "\n",
    "**Step 1. Import necessary packages -- numpy and pandas - 1 Mark** "
   ]
  },
  {
   "cell_type": "code",
   "execution_count": 2,
   "metadata": {},
   "outputs": [],
   "source": [
    "import numpy as np\n",
    "import pandas as pd"
   ]
  },
  {
   "cell_type": "markdown",
   "metadata": {},
   "source": [
    "**Step 2. Read the dataset and store it in variable 'df' - 1 mark** <br> \n",
    "\n",
    "The lyric column of the dataset has song lyrics. We aim to give some lyrics as a query and retrieve the song name. \n"
   ]
  },
  {
   "cell_type": "code",
   "execution_count": 4,
   "metadata": {},
   "outputs": [
    {
     "data": {
      "text/html": [
       "<div>\n",
       "<style scoped>\n",
       "    .dataframe tbody tr th:only-of-type {\n",
       "        vertical-align: middle;\n",
       "    }\n",
       "\n",
       "    .dataframe tbody tr th {\n",
       "        vertical-align: top;\n",
       "    }\n",
       "\n",
       "    .dataframe thead th {\n",
       "        text-align: right;\n",
       "    }\n",
       "</style>\n",
       "<table border=\"1\" class=\"dataframe\">\n",
       "  <thead>\n",
       "    <tr style=\"text-align: right;\">\n",
       "      <th></th>\n",
       "      <th>album</th>\n",
       "      <th>track_title</th>\n",
       "      <th>lyric</th>\n",
       "      <th>year</th>\n",
       "    </tr>\n",
       "  </thead>\n",
       "  <tbody>\n",
       "    <tr>\n",
       "      <th>0</th>\n",
       "      <td>Taylor Swift</td>\n",
       "      <td>Tim McGraw</td>\n",
       "      <td>He said the way my blue eyes shined Put those ...</td>\n",
       "      <td>2006</td>\n",
       "    </tr>\n",
       "    <tr>\n",
       "      <th>1</th>\n",
       "      <td>Taylor Swift</td>\n",
       "      <td>Picture To Burn</td>\n",
       "      <td>State the obvious, I didn't get my perfect fan...</td>\n",
       "      <td>2006</td>\n",
       "    </tr>\n",
       "    <tr>\n",
       "      <th>2</th>\n",
       "      <td>Taylor Swift</td>\n",
       "      <td>Teardrops On My Guitar</td>\n",
       "      <td>Drew looks at me I fake a smile so he won't se...</td>\n",
       "      <td>2006</td>\n",
       "    </tr>\n",
       "    <tr>\n",
       "      <th>3</th>\n",
       "      <td>Taylor Swift</td>\n",
       "      <td>A Place In This World</td>\n",
       "      <td>I don't know what I want, so don't ask me Caus...</td>\n",
       "      <td>2006</td>\n",
       "    </tr>\n",
       "    <tr>\n",
       "      <th>4</th>\n",
       "      <td>Taylor Swift</td>\n",
       "      <td>Cold as You</td>\n",
       "      <td>You have a way of coming easily to me And when...</td>\n",
       "      <td>2006</td>\n",
       "    </tr>\n",
       "    <tr>\n",
       "      <th>5</th>\n",
       "      <td>Taylor Swift</td>\n",
       "      <td>The Outside</td>\n",
       "      <td>I didn't know what I would find When I went lo...</td>\n",
       "      <td>2006</td>\n",
       "    </tr>\n",
       "    <tr>\n",
       "      <th>6</th>\n",
       "      <td>Taylor Swift</td>\n",
       "      <td>Tied Together With A Smile</td>\n",
       "      <td>Seems the only one who doesn't see your beauty...</td>\n",
       "      <td>2006</td>\n",
       "    </tr>\n",
       "    <tr>\n",
       "      <th>7</th>\n",
       "      <td>Taylor Swift</td>\n",
       "      <td>Stay Beautiful</td>\n",
       "      <td>Cory's eyes are like a jungle He smiles, it's ...</td>\n",
       "      <td>2006</td>\n",
       "    </tr>\n",
       "    <tr>\n",
       "      <th>8</th>\n",
       "      <td>Taylor Swift</td>\n",
       "      <td>Should've Said No</td>\n",
       "      <td>It's strange to think the songs we used to sin...</td>\n",
       "      <td>2006</td>\n",
       "    </tr>\n",
       "    <tr>\n",
       "      <th>9</th>\n",
       "      <td>Taylor Swift</td>\n",
       "      <td>Mary's Song (Oh My My My)</td>\n",
       "      <td>She said, I was seven and you were nine I look...</td>\n",
       "      <td>2006</td>\n",
       "    </tr>\n",
       "  </tbody>\n",
       "</table>\n",
       "</div>"
      ],
      "text/plain": [
       "          album                 track_title  \\\n",
       "0  Taylor Swift                  Tim McGraw   \n",
       "1  Taylor Swift             Picture To Burn   \n",
       "2  Taylor Swift      Teardrops On My Guitar   \n",
       "3  Taylor Swift       A Place In This World   \n",
       "4  Taylor Swift                 Cold as You   \n",
       "5  Taylor Swift                 The Outside   \n",
       "6  Taylor Swift  Tied Together With A Smile   \n",
       "7  Taylor Swift              Stay Beautiful   \n",
       "8  Taylor Swift           Should've Said No   \n",
       "9  Taylor Swift   Mary's Song (Oh My My My)   \n",
       "\n",
       "                                               lyric  year  \n",
       "0  He said the way my blue eyes shined Put those ...  2006  \n",
       "1  State the obvious, I didn't get my perfect fan...  2006  \n",
       "2  Drew looks at me I fake a smile so he won't se...  2006  \n",
       "3  I don't know what I want, so don't ask me Caus...  2006  \n",
       "4  You have a way of coming easily to me And when...  2006  \n",
       "5  I didn't know what I would find When I went lo...  2006  \n",
       "6  Seems the only one who doesn't see your beauty...  2006  \n",
       "7  Cory's eyes are like a jungle He smiles, it's ...  2006  \n",
       "8  It's strange to think the songs we used to sin...  2006  \n",
       "9  She said, I was seven and you were nine I look...  2006  "
      ]
     },
     "execution_count": 4,
     "metadata": {},
     "output_type": "execute_result"
    }
   ],
   "source": [
    "df = pd.read_csv('modified_song_lyrics.csv')\n",
    "df.head(10)"
   ]
  },
  {
   "cell_type": "code",
   "execution_count": 5,
   "metadata": {},
   "outputs": [
    {
     "data": {
      "text/html": [
       "<div>\n",
       "<style scoped>\n",
       "    .dataframe tbody tr th:only-of-type {\n",
       "        vertical-align: middle;\n",
       "    }\n",
       "\n",
       "    .dataframe tbody tr th {\n",
       "        vertical-align: top;\n",
       "    }\n",
       "\n",
       "    .dataframe thead th {\n",
       "        text-align: right;\n",
       "    }\n",
       "</style>\n",
       "<table border=\"1\" class=\"dataframe\">\n",
       "  <thead>\n",
       "    <tr style=\"text-align: right;\">\n",
       "      <th></th>\n",
       "      <th>year</th>\n",
       "    </tr>\n",
       "  </thead>\n",
       "  <tbody>\n",
       "    <tr>\n",
       "      <th>count</th>\n",
       "      <td>94.000000</td>\n",
       "    </tr>\n",
       "    <tr>\n",
       "      <th>mean</th>\n",
       "      <td>2011.329787</td>\n",
       "    </tr>\n",
       "    <tr>\n",
       "      <th>std</th>\n",
       "      <td>3.557178</td>\n",
       "    </tr>\n",
       "    <tr>\n",
       "      <th>min</th>\n",
       "      <td>2006.000000</td>\n",
       "    </tr>\n",
       "    <tr>\n",
       "      <th>25%</th>\n",
       "      <td>2008.000000</td>\n",
       "    </tr>\n",
       "    <tr>\n",
       "      <th>50%</th>\n",
       "      <td>2012.000000</td>\n",
       "    </tr>\n",
       "    <tr>\n",
       "      <th>75%</th>\n",
       "      <td>2014.000000</td>\n",
       "    </tr>\n",
       "    <tr>\n",
       "      <th>max</th>\n",
       "      <td>2017.000000</td>\n",
       "    </tr>\n",
       "  </tbody>\n",
       "</table>\n",
       "</div>"
      ],
      "text/plain": [
       "              year\n",
       "count    94.000000\n",
       "mean   2011.329787\n",
       "std       3.557178\n",
       "min    2006.000000\n",
       "25%    2008.000000\n",
       "50%    2012.000000\n",
       "75%    2014.000000\n",
       "max    2017.000000"
      ]
     },
     "execution_count": 5,
     "metadata": {},
     "output_type": "execute_result"
    }
   ],
   "source": [
    "df.describe()"
   ]
  },
  {
   "cell_type": "markdown",
   "metadata": {},
   "source": [
    "**Documentation Reference: https://scikit-learn.org/stable/modules/generated/sklearn.feature_extraction.text.CountVectorizer.html**<br>"
   ]
  },
  {
   "cell_type": "markdown",
   "metadata": {},
   "source": [
    "**Step 3**<br>\n",
    "1. Import this class\n",
    "2. Create a 'vectorizer' object of 'CountVectorizer' with parameter binary=True - 1 Mark"
   ]
  },
  {
   "cell_type": "code",
   "execution_count": 6,
   "metadata": {},
   "outputs": [],
   "source": [
    "from sklearn.feature_extraction.text import CountVectorizer\n",
    "vectorizer = CountVectorizer(binary=True)"
   ]
  },
  {
   "cell_type": "markdown",
   "metadata": {},
   "source": [
    "We aim to analyze the lyrics for presence or absence. <br> \n",
    "**Step 4. Fit and transform the lyric column using vectorizer - 2 Marks**<br>\n",
    "X object is a matrix of size (n_songs,n_unique_words) where each entry is 0 or 1 if the word in present in this song. Verify this using X.shape method"
   ]
  },
  {
   "cell_type": "code",
   "execution_count": 8,
   "metadata": {},
   "outputs": [
    {
     "name": "stdout",
     "output_type": "stream",
     "text": [
      "['00', '14', '17', '18', '203d', '22', '2am', '30', '32', '45', '4th', '58', '9th', 'aah', 'abigail', 'about', 'above', 'absent', 'absurd', 'accused', 'ace', 'achilles', 'aching', 'acing', 'across', 'act', 'acted', 'actress', 'actually', 'add', 'admit', 'adore', 'affair', 'afraid', 'after', 'again', 'against', 'age', 'aglow', 'ago', 'ah', 'ahead', 'ahh', 'aids', 'ain', 'air', 'airplanes', 'aisle', 'album', 'aligned', 'alive', 'all', 'almost', 'alone', 'along', 'already', 'alright', 'always', 'am', 'ambition', 'amen', 'american', 'amount', 'amp', 'an', 'and', 'angel', 'another', 'answer', 'anthem', 'anticipation', 'any', 'anybody', 'anymore', 'anyone', 'anything', 'anyway', 'anywhere', 'apart', 'apartment', 'apologies', 'apology', 'applause', 'are', 'aren', 'argue', 'arm', 'armor', 'arms', 'around', 'as', 'aside', 'ask', 'asked', 'asking', 'asleep', 'at', 'attached', 'attitude', 'autumn', 'avalanche', 'avoid', 'awake', 'away', 'axe', 'ayy', 'babe', 'babies', 'baby', 'back', 'backroads', 'backyard', 'bad', 'bag', 'bags', 'balance', 'balcony', 'ball', 'band', 'bang', 'bar', 'barging', 'baseball', 'bass', 'bathroom', 'bathtub', 'battle', 'be', 'beach', 'beat', 'beating', 'beautiful', 'beauty', 'because', 'become', 'becomes', 'bed', 'bedpost', 'bedroom', 'beds', 'been', 'beer', 'before', 'beg', 'beggin', 'begging', 'begin', 'beginning', 'begins', 'behind', 'bein', 'being', 'believe', 'believed', 'believing', 'belong', 'belonged', 'belt', 'bench', 'beneath', 'beside', 'best', 'bet', 'better', 'between', 'big', 'bigger', 'bills', 'birthday', 'bit', 'bitter', 'bittersweet', 'black', 'blame', 'blank', 'bleached', 'bleachers', 'bleeds', 'blew', 'blind', 'blinding', 'blink', 'block', 'blocked', 'blood', 'blow', 'blue', 'blues', 'bluff', 'blurry', 'blushing', 'boarded', 'boardwalk', 'boat', 'bobby', 'body', 'bone', 'bones', 'bonnie', 'book', 'bored', 'born', 'both', 'bother', 'bottles', 'bought', 'bout', 'box', 'boxes', 'boy', 'boyfriend', 'boys', 'braced', 'brain', 'brakes', 'brand', 'brave', 'break', 'breakdown', 'breakfast', 'breakin', 'breaking', 'breath', 'breathe', 'breathless', 'breeze', 'bricks', 'bride', 'bridesmaid', 'bridges', 'briefcase', 'bright', 'bring', 'broke', 'broken', 'brother', 'brought', 'brown', 'brush', 'build', 'built', 'bullet', 'bulletproof', 'bump', 'bunch', 'burn', 'burned', 'burnin', 'burning', 'burnt', 'burst', 'burton', 'bury', 'busier', 'business', 'busy', 'but', 'butterflies', 'buttons', 'buzzcut', 'by', 'cab', 'cabs', 'cafe', 'cage', 'cages', 'call', 'called', 'callin', 'calling', 'calls', 'calm', 'came', 'camera', 'can', 'candle', 'candlelight', 'cannon', 'cap', 'captain', 'captivated', 'capture', 'car', 'card', 'cards', 'care', 'careful', 'careless', 'carry', 'carrying', 'cars', 'carve', 'case', 'castle', 'casually', 'cat', 'catch', 'catching', 'cats', 'caught', 'cause', 'chain', 'chair', 'chalkboard', 'champagne', 'champions', 'chance', 'chances', 'chandelier', 'change', 'changed', 'changer', 'changing', 'chapter', 'charming', 'chase', 'chasing', 'cheats', 'check', 'cheek', 'cheeks', 'cheer', 'cherry', 'cheshire', 'chess', 'chest', 'chevy', 'childhood', 'children', 'chill', 'chips', 'choice', 'choices', 'choose', 'chose', 'christmas', 'church', 'circling', 'circus', 'cities', 'city', 'class', 'classic', 'classroom', 'clean', 'cleaning', 'clear', 'close', 'closer', 'clothes', 'clouds', 'club', 'clyde', 'coaster', 'coat', 'coats', 'code', 'coffee', 'cold', 'colder', 'college', 'color', 'colors', 'comb', 'come', 'comes', 'comfortable', 'comin', 'coming', 'comparison', 'complicated', 'complication', 'compliment', 'concerned', 'condescending', 'condition', 'confess', 'confetti', 'confused', 'consequence', 'consider', 'contest', 'control', 'conversation', 'cool', 'cooler', 'core', 'corner', 'cornered', 'cory', 'couch', 'could', 'couldn', 'count', 'counter', 'counting', 'cover', 'covered', 'covers', 'crashed', 'crashing', 'crawl', 'crawling', 'crazy', 'creek', 'creeping', 'crept', 'crickets', 'cried', 'crime', 'crimes', 'crimson', 'crooked', 'cross', 'crossing', 'crossword', 'crowd', 'crowded', 'crowds', 'crown', 'cruel', 'cruelest', 'cruisin', 'crumbled', 'crumpled', 'crush', 'cry', 'cryin', 'crying', 'crystal', 'cups', 'curious', 'currents', 'cursed', 'cursing', 'curtains', 'cut', 'cuts', 'cycle', 'cynics', 'da', 'dad', 'daddies', 'daddy', 'daisy', 'damn', 'dance', 'danced', 'dancing', 'danger', 'dangerous', 'dared', 'dark', 'darkened', 'darker', 'darkest', 'darkness', 'darlin', 'darling', 'date', 'dated', 'dates', 'dating', 'daughter', 'day', 'daydream', 'days', 'dead', 'deadlines', 'dealing', 'dean', 'dear', 'death', 'decade', 'deceiving', 'december', 'decide', 'decided', 'deep', 'deepest', 'defending', 'delicate', 'demons', 'deny', 'desert', 'deserve', 'desperately', 'diamonds', 'did', 'didn', 'die', 'died', 'different', 'difficult', 'dignity', 'dimming', 'dirty', 'disappear', 'disappeared', 'disappearing', 'disapproves', 'discovered', 'disposition', 'distance', 'ditch', 'dive', 'divide', 'do', 'does', 'doesn', 'doin', 'doing', 'don', 'done', 'door', 'doors', 'doorstep', 'doorway', 'dope', 'doubt', 'down', 'downtown', 'drag', 'dragons', 'drama', 'dramatic', 'drawer', 'dream', 'dreamed', 'dreamer', 'dreaming', 'dreams', 'dress', 'dressed', 'dresses', 'dressing', 'drew', 'drink', 'drinkin', 'drinking', 'drive', 'drives', 'drivin', 'driving', 'drop', 'dropped', 'dropping', 'drops', 'drought', 'drove', 'drown', 'drowning', 'drug', 'drum', 'drunk', 'dry', 'duchess', 'dumb', 'dust', 'dwarfs', 'dyin', 'dying', 'each', 'early', 'earthquakes', 'ease', 'easier', 'easily', 'east', 'easy', 'echo', 'echoed', 'echoes', 'ed', 'eee', 'eh', 'eight', 'eighty', 'either', 'electrified', 'elevator', 'else', 'em', 'embers', 'empty', 'enchanted', 'enchanting', 'end', 'endearing', 'ended', 'ending', 'endings', 'ends', 'enemies', 'enough', 'erasing', 'escape', 'even', 'ever', 'every', 'everybody', 'everyday', 'everyone', 'everything', 'everytime', 'ew', 'ex', 'exactly', 'excellent', 'exception', 'exchanged', 'exciting', 'exes', 'exhausting', 'expect', 'expecting', 'expensive', 'expert', 'explain', 'extra', 'ey', 'eye', 'eyed', 'eyelids', 'eyes', 'face', 'fade', 'faded', 'fades', 'fading', 'failure', 'fair', 'fairytale', 'faith', 'fake', 'fakers', 'faking', 'fall', 'falling', 'fallout', 'falls', 'fame', 'familiar', 'family', 'fancy', 'fantasy', 'far', 'fashioned', 'fast', 'faster', 'fate', 'father', 'favorite', 'fear', 'fearless', 'fears', 'feast', 'feel', 'feeling', 'feelings', 'feels', 'feet', 'fell', 'fella', 'felt', 'fence', 'fences', 'few', 'field', 'fifteen', 'fifty', 'fight', 'fighting', 'fights', 'figure', 'figured', 'filled', 'final', 'finally', 'find', 'finding', 'finds', 'fine', 'finger', 'fingers', 'finish', 'fire', 'firefly', 'firework', 'fireworks', 'first', 'fit', 'five', 'fix', 'flame', 'flames', 'flash', 'flashback', 'flashbacks', 'flashes', 'flashing', 'flawless', 'flaws', 'flew', 'flickered', 'flight', 'floats', 'flood', 'floor', 'floors', 'flow', 'flowers', 'flutter', 'fly', 'flyin', 'flying', 'focus', 'follow', 'followed', 'fond', 'fool', 'football', 'footsteps', 'for', 'forbid', 'force', 'forcing', 'fore', 'forever', 'forevermore', 'forget', 'forgets', 'forgetting', 'forgiveness', 'forgotten', 'forth', 'forts', 'fortune', 'forward', 'fought', 'found', 'four', 'foxes', 'foyer', 'fragile', 'frames', 'freckles', 'free', 'freedom', 'fresh', 'freshman', 'friction', 'friday', 'friend', 'friends', 'from', 'front', 'frown', 'frozen', 'frustrated', 'frustrating', 'full', 'fun', 'funny', 'furious', 'furniture', 'fuss', 'future', 'g5', 'game', 'games', 'gap', 'garden', 'gary', 'gates', 'gatsby', 'gave', 'gay', 'gaze', 'georgia', 'gestures', 'get', 'getaway', 'gets', 'gettin', 'getting', 'ghost', 'ghosts', 'girl', 'girlfriend', 'girls', 'git', 'give', 'given', 'gives', 'giving', 'glad', 'glance', 'glasses', 'glisten', 'glitter', 'gloss', 'glow', 'glowing', 'go', 'god', 'goes', 'going', 'gold', 'golden', 'gon', 'gone', 'gonna', 'good', 'goodbye', 'goodnight', 'gorgeous', 'got', 'gotta', 'gown', 'gowns', 'grab', 'grabbed', 'grace', 'granted', 'gravity', 'gray', 'great', 'greater', 'green', 'grew', 'grey', 'grip', 'groceries', 'groovin', 'ground', 'grow', 'growing', 'grown', 'grumbling', 'guard', 'guarded', 'guess', 'guessin', 'guessing', 'guitar', 'gun', 'gunfight', 'guns', 'guys', 'ha', 'haa', 'had', 'hadn', 'haha', 'hair', 'half', 'halfway', 'hall', 'hallelujah', 'hallway', 'halo', 'hand', 'hands', 'handshake', 'handsome', 'handwritten', 'hang', 'hanging', 'happen', 'happened', 'happens', 'happiness', 'happy', 'hard', 'harder', 'hardwood', 'has', 'hasn', 'hatchets', 'hate', 'haters', 'haunt', 'haunted', 'have', 'haven', 'having', 'he', 'head', 'headlights', 'headphones', 'heal', 'health', 'hear', 'heard', 'heart', 'heartbeat', 'heartbeats', 'heartbreak', 'heartbreakers', 'heartbreaks', 'hearts', 'heat', 'heaven', 'heel', 'heels', 'hehe', 'heist', 'held', 'hell', 'hella', 'hello', 'helmet', 'help', 'helped', 'her', 'here', 'hero', 'hey', 'hi', 'hide', 'hiding', 'high', 'highest', 'highlight', 'him', 'himself', 'hindsight', 'hipsters', 'his', 'history', 'hit', 'hits', 'hmm', 'ho', 'hold', 'holdin', 'holding', 'hole', 'holes', 'hollywood', 'holy', 'home', 'honest', 'honestly', 'honey', 'hope', 'hopeful', 'hopelessly', 'hopes', 'hoping', 'horrified', 'horse', 'hospital', 'hostage', 'hot', 'hours', 'house', 'how', 'hug', 'huh', 'humiliation', 'humor', 'hung', 'hunters', 'hurt', 'hurts', 'ice', 'ide', 'idea', 'if', 'ignore', 'ignored', 'illusionist', 'imagine', 'imagined', 'impossible', 'impress', 'impressed', 'in', 'incredible', 'indentation', 'indie', 'indulgent', 'inescapable', 'initial', 'innocence', 'innocent', 'insane', 'insecurities', 'inside', 'insincerity', 'instantly', 'instead', 'interruptions', 'into', 'intoxicating', 'invisible', 'irrational', 'is', 'island', 'isn', 'issue', 'issues', 'it', 'its', 'ivy', 'jaguars', 'jailer', 'james', 'jealous', 'jealousy', 'jeans', 'jet', 'john', 'join', 'joke', 'jokers', 'judge', 'juliet', 'july', 'jump', 'jumping', 'jumps', 'jungle', 'jury', 'just', 'kaleidoscope', 'karma', 'keep', 'keeping', 'keeps', 'kept', 'keys', 'kid', 'kidding', 'kids', 'killer', 'killing', 'kind', 'kinda', 'king', 'kingdom', 'kings', 'kiss', 'kissed', 'kisses', 'kissing', 'kitchen', 'knee', 'knees', 'knelt', 'knew', 'knife', 'knives', 'knocked', 'know', 'knowing', 'known', 'knows', 'la', 'lady', 'lake', 'land', 'lantern', 'last', 'lasted', 'lasts', 'late', 'lately', 'later', 'laugh', 'laughing', 'laughs', 'laughter', 'lay', 'lead', 'leads', 'learn', 'learned', 'least', 'leave', 'leaves', 'leaving', 'left', 'legend', 'legs', 'less', 'lesson', 'let', 'lets', 'letter', 'letters', 'letting', 'liar', 'liars', 'lie', 'lies', 'life', 'lifeless', 'lifeline', 'light', 'lightbody', 'lighthearted', 'lightning', 'lights', 'like', 'liked', 'line', 'lines', 'lingering', 'lip', 'lips', 'lipstick', 'liquor', 'list', 'listen', 'listened', 'listening', 'lit', 'little', 'live', 'lived', 'lives', 'living', 'll', 'lobby', 'lock', 'locked', 'locket', 'locking', 'london', 'lonely', 'long', 'look', 'looked', 'lookin', 'looking', 'looks', 'loose', 'lord', 'lose', 'loses', 'losing', 'lost', 'lot', 'loud', 'love', 'loved', 'lovely', 'lover', 'lovers', 'loves', 'lovin', 'loving', 'low', 'lucky', 'lunchbox', 'lungs', 'lurking', 'luxury', 'lyin', 'lying', 'mad', 'made', 'madison', 'madness', 'magazine', 'magic', 'magical', 'magician', 'magnetic', 'mail', 'make', 'makes', 'makin', 'making', 'mama', 'mamas', 'man', 'mansion', 'many', 'maps', 'march', 'mark', 'marks', 'married', 'marry', 'marrying', 'marvelous', 'mascara', 'maserati', 'masterpiece', 'match', 'matches', 'matter', 'mattress', 'may', 'maybe', 'mcgraw', 'me', 'mean', 'means', 'meant', 'meet', 'meeting', 'memories', 'memorize', 'memorizing', 'memory', 'mended', 'mending', 'mess', 'messed', 'met', 'middle', 'midnight', 'midnights', 'might', 'million', 'mind', 'mindedly', 'mindless', 'minds', 'mine', 'minute', 'miracle', 'mirror', 'miscommunications', 'miserable', 'miss', 'missed', 'missing', 'mission', 'mistake', 'mistakes', 'mm', 'mmhm', 'mmm', 'mmmm', 'mom', 'moment', 'moments', 'momma', 'mon', 'money', 'monsters', 'month', 'months', 'moon', 'more', 'morning', 'mortified', 'mosaic', 'most', 'motel', 'mother', 'motion', 'motown', 'mountains', 'move', 'moved', 'moves', 'movie', 'movies', 'movin', 'moving', 'much', 'music', 'must', 'my', 'myself', 'mystery', 'na', 'nails', 'naive', 'name', 'named', 'names', 'napkin', 'narcissist', 'nasty', 'national', 'near', 'neck', 'necklace', 'need', 'needed', 'needing', 'nerve', 'nervously', 'never', 'new', 'newest', 'news', 'next', 'nice', 'nick', 'night', 'nightmare', 'nights', 'nightstand', 'nikes', 'nine', 'nines', 'nineteen', 'no', 'nobody', 'noise', 'nonchalant', 'none', 'not', 'notch', 'note', 'notes', 'nothin', 'nothing', 'notice', 'notices', 'november', 'now', 'nowhere', 'number', 'oasis', 'obsession', 'obsessive', 'obvious', 'occasion', 'occurred', 'occurring', 'ocean', 'of', 'off', 'office', 'oh', 'ohwho', 'ok', 'okay', 'old', 'older', 'on', 'once', 'one', 'ones', 'only', 'onto', 'oo', 'ooh', 'open', 'opens', 'opinion', 'optimism', 'or', 'organ', 'other', 'ought', 'our', 'ours', 'ourselves', 'out', 'outnumbered', 'outraged', 'outside', 'outskirts', 'outta', 'over', 'overdose', 'overnight', 'owe', 'own', 'owns', 'paced', 'paces', 'pacin', 'pacing', 'page', 'pageant', 'pain', 'paint', 'painted', 'painting', 'palm', 'pane', 'paper', 'papers', 'parade', 'paradise', 'paralyzed', 'paranoia', 'parents', 'park', 'parking', 'part', 'parties', 'party', 'pass', 'passed', 'passenger', 'passing', 'passionate', 'passport', 'past', 'pastel', 'pastry', 'patch', 'path', 'pathetic', 'patience', 'patiently', 'pauses', 'pavement', 'pay', 'peace', 'pebbles', 'pen', 'penny', 'people', 'perfect', 'perfectly', 'permanent', 'persona', 'phantom', 'phone', 'photo', 'pick', 'picked', 'pickin', 'picking', 'pickup', 'picture', 'pictures', 'piece', 'pieces', 'pierce', 'pining', 'pirate', 'pitchforks', 'pj', 'place', 'places', 'plaid', 'plain', 'plan', 'plane', 'planned', 'planning', 'plastic', 'play', 'playboy', 'played', 'players', 'playful', 'playground', 'playing', 'playthings', 'please', 'pocket', 'pockets', 'poems', 'point', 'pointed', 'poison', 'poisoned', 'poker', 'polaroid', 'polaroids', 'pool', 'porch', 'pouring', 'praying', 'preacher', 'precede', 'precedes', 'prep', 'present', 'pretend', 'pretended', 'pretenders', 'pretending', 'pretends', 'prettiest', 'pretty', 'previously', 'price', 'pride', 'prince', 'princess', 'princesses', 'prints', 'priorities', 'prison', 'probably', 'problems', 'promise', 'promises', 'proof', 'proposition', 'protect', 'proudly', 'psycho', 'pull', 'pulled', 'pulling', 'pumpkin', 'punched', 'push', 'pushed', 'pushing', 'put', 'puts', 'putting', 'queen', 'queens', 'question', 'quick', 'quiet', 'quite', 'rabbit', 'radio', 'raided', 'rain', 'rained', 'rains', 'rainstorm', 'rainy', 'ran', 'range', 'ransom', 'ranting', 'rare', 'rather', 'rattling', 're', 'reach', 'reached', 'reaching', 'read', 'reading', 'ready', 'real', 'realize', 'realized', 'realizing', 'really', 'rear', 'reason', 'reasons', 'rebel', 'rebounds', 'recall', 'receipts', 'reckless', 'recognize', 'reconnected', 'record', 'records', 'red', 'redhead', 'redneck', 'reflects', 'refrigerator', 'regret', 'regretting', 'remarks', 'remember', 'remembered', 'remembering', 'remind', 'reminds', 'reminiscing', 'repeating', 'reply', 'reputation', 'reputations', 'request', 'resist', 'respects', 'responsibility', 'rest', 'revenge', 'revolution', 'revolved', 'rhyme', 'rid', 'riddles', 'ride', 'rides', 'ridin', 'riding', 'right', 'ring', 'ripped', 'risk', 'riviera', 'road', 'roads', 'robber', 'rock', 'rocks', 'role', 'roll', 'rolled', 'roller', 'romantic', 'romantics', 'romeo', 'roof', 'room', 'rose', 'roses', 'rosy', 'rough', 'round', 'rovers', 'rub', 'rude', 'rudely', 'ruin', 'ruined', 'rule', 'rules', 'rumors', 'run', 'runnin', 'running', 'runs', 'rush', 'rushes', 'rusted', 'ruthless', 'sabotage', 'sacred', 'sad', 'saddest', 'safe', 'said', 'saint', 'salt', 'salute', 'same', 'sand', 'sang', 'save', 'saved', 'saw', 'say', 'sayin', 'saying', 'says', 'scar', 'scared', 'scarf', 'scarlet', 'scarred', 'scars', 'scene', 'school', 'scratches', 'screamed', 'screamin', 'screaming', 'screams', 'screen', 'sea', 'searched', 'searching', 'seat', 'second', 'secrecy', 'secret', 'secrets', 'see', 'seem', 'seemed', 'seems', 'seen', 'self', 'send', 'senior', 'sense', 'sensible', 'september', 'septembers', 'set', 'setting', 'seven', 'shade', 'shades', 'shadows', 'shady', 'shake', 'shakin', 'shaking', 'shame', 'shape', 'shaped', 'share', 'shattered', 'she', 'sheeran', 'shifting', 'shine', 'shined', 'shines', 'shining', 'shiny', 'ships', 'shirt', 'shirts', 'shit', 'shoes', 'shop', 'short', 'shot', 'shotgun', 'shots', 'should', 'shoulda', 'shoulders', 'shouldn', 'show', 'showed', 'showing', 'shy', 'si', 'sick', 'side', 'sides', 'sideshow', 'sidewalk', 'sight', 'sights', 'sign', 'signs', 'silence', 'silent', 'silhouette', 'simple', 'sin', 'since', 'sing', 'singing', 'single', 'sink', 'sinking', 'sinks', 'sirens', 'sister', 'sit', 'sittin', 'sitting', 'six', 'sixteen', 'sixties', 'sized', 'skies', 'skin', 'skip', 'skippin', 'skirt', 'skirts', 'sky', 'slamming', 'slates', 'sleep', 'sleeping', 'sleepless', 'sleeve', 'sleeves', 'slept', 'slicked', 'slipping', 'slope', 'slow', 'slowly', 'small', 'smart', 'smarter', 'smell', 'smells', 'smile', 'smiled', 'smiles', 'smiling', 'sneak', 'sneakers', 'sneakin', 'snide', 'snotty', 'snow', 'snowglobe', 'snuck', 'so', 'sober', 'soft', 'solve', 'some', 'somebody', 'someday', 'somehow', 'someone', 'something', 'sometimes', 'somewhere', 'song', 'songs', 'soon', 'sophistication', 'sorry', 'soul', 'sound', 'sounded', 'sounds', 'soundtrack', 'space', 'sparkin', 'sparkling', 'sparks', 'speak', 'speaking', 'speculate', 'spend', 'spending', 'spends', 'spent', 'spilling', 'spin', 'spinning', 'spite', 'splashed', 'spot', 'spotlight', 'sprung', 'square', 'squeeze', 'stabbed', 'stage', 'stained', 'staircase', 'stairs', 'stairwell', 'stakes', 'stand', 'standin', 'standing', 'stands', 'star', 'stare', 'stares', 'staring', 'starlight', 'starring', 'starry', 'stars', 'start', 'started', 'starting', 'starts', 'state', 'stay', 'stayed', 'staying', 'stealing', 'steering', 'step', 'stephen', 'steps', 'still', 'stitches', 'stoked', 'stole', 'stolen', 'stomach', 'stood', 'stop', 'stopped', 'stopping', 'stops', 'stories', 'storm', 'storms', 'story', 'storyline', 'straight', 'stranded', 'strange', 'stranger', 'strangers', 'straw', 'streak', 'stream', 'streaming', 'street', 'streets', 'strength', 'strike', 'string', 'strong', 'stronger', 'struck', 'struggle', 'stuck', 'stuff', 'stumble', 'stumbled', 'stupid', 'style', 'such', 'suddenly', 'suit', 'summer', 'summers', 'sun', 'sunday', 'sunset', 'sunshine', 'superman', 'supposed', 'sure', 'surely', 'surprise', 'suspected', 'swallowing', 'swaying', 'swear', 'sweep', 'sweet', 'swept', 'swerve', 'swift', 'swimming', 'swing', 'swings', 'switch', 'switched', 'switching', 'swords', 'swore', 'ta', 'tables', 'tails', 'take', 'taken', 'takers', 'takes', 'taking', 'talk', 'talked', 'talking', 'talks', 'tall', 'tame', 'tan', 'tangled', 'tapping', 'taste', 'tattoo', 'tattoos', 'taught', 'taxi', 'taylor', 'teach', 'team', 'tear', 'teardrops', 'tears', 'tee', 'teeth', 'tell', 'telling', 'tells', 'temper', 'ten', 'tendency', 'terrible', 'terribly', 'tests', 'than', 'thankin', 'that', 'the', 'their', 'theirs', 'them', 'then', 'there', 'therein', 'these', 'they', 'thief', 'thieves', 'thing', 'things', 'think', 'thinkin', 'thinking', 'thinks', 'third', 'thirst', 'thirteen', 'this', 'thorns', 'those', 'though', 'thought', 'thoughts', 'thousand', 'three', 'threw', 'through', 'throw', 'throwing', 'thrown', 'ticking', 'tides', 'tie', 'tied', 'ties', 'tight', 'tightrope', 'til', 'till', 'tilted', 'tim', 'time', 'times', 'timing', 'tip', 'tired', 'to', 'toast', 'today', 'together', 'told', 'tomorrow', 'tongue', 'tonight', 'too', 'took', 'top', 'tore', 'torture', 'tossing', 'touch', 'touchin', 'touching', 'tough', 'town', 'toyin', 'toys', 'trace', 'track', 'tracks', 'tractor', 'traded', 'traffic', 'tragedy', 'tragic', 'train', 'trained', 'trains', 'traitors', 'traits', 'trampled', 'translation', 'traveled', 'treacherous', 'treat', 'tree', 'trees', 'trend', 'trick', 'tricks', 'tried', 'trip', 'trippin', 'trophies', 'trouble', 'troubling', 'truck', 'true', 'trust', 'trusted', 'trusts', 'truth', 'try', 'tryin', 'trying', 'tryna', 'tuck', 'tuesday', 'tune', 'turn', 'turned', 'turning', 'turns', 'tux', 'twenty', 'twice', 'twin', 'twist', 'twisted', 'twistin', 'twisting', 'two', 'type', 'typical', 'uh', 'unbelievable', 'unbroken', 'under', 'underestimated', 'underlined', 'understand', 'understands', 'undone', 'uninvited', 'unless', 'unresolved', 'until', 'up', 'upon', 'upper', 'upset', 'upstanding', 'upstate', 'us', 'use', 'used', 'usin', 'usual', 'usually', 'vacancy', 'vacant', 'vanished', 've', 'veil', 'vendetta', 'verdict', 'version', 'very', 'video', 'view', 'views', 'village', 'vine', 'vintage', 'violin', 'voice', 'vow', 'vows', 'vultures', 'waistline', 'wait', 'waited', 'waiting', 'waits', 'wake', 'wakes', 'walk', 'walked', 'walking', 'walks', 'wall', 'walls', 'wanna', 'want', 'wanted', 'wanting', 'war', 'warm', 'warn', 'warpath', 'wars', 'was', 'washed', 'wasn', 'waste', 'wasted', 'wasting', 'watch', 'watched', 'watches', 'watching', 'water', 'wave', 'wax', 'way', 'we', 'weak', 'weaker', 'weakness', 'weapons', 'wear', 'wearing', 'wears', 'weather', 'wednesday', 'week', 'weekend', 'weeks', 'welcome', 'well', 'went', 'were', 'weren', 'west', 'what', 'whatcha', 'whatever', 'wheel', 'when', 'whenever', 'where', 'which', 'while', 'whippin', 'whiskey', 'whisper', 'whispered', 'whispers', 'white', 'who', 'whoa', 'whole', 'whose', 'why', 'wide', 'wild', 'wildest', 'wildfire', 'will', 'win', 'wind', 'window', 'windows', 'wine', 'wink', 'wish', 'wished', 'wishful', 'wishing', 'witches', 'with', 'without', 'woke', 'won', 'wonder', 'wondered', 'wonderful', 'wonderin', 'wondering', 'wonderland', 'wonderstruck', 'woods', 'word', 'words', 'wore', 'work', 'worked', 'working', 'works', 'world', 'worlds', 'worn', 'worry', 'worrying', 'worse', 'worst', 'worth', 'worthwhile', 'would', 'wouldn', 'wound', 'wounded', 'wounds', 'wrapped', 'write', 'writing', 'wrong', 'wrote', 'x7', 'x8', 'ya', 'yacht', 'yard', 'yay', 'yeah', 'year', 'years', 'yelling', 'yes', 'yesterday', 'yet', 'york', 'you', 'young', 'younger', 'your', 'yours', 'yourself']\n"
     ]
    }
   ],
   "source": [
    "corpus = df['lyric'].tolist()\n",
    "X = vectorizer.fit_transform(corpus)\n",
    "X.shape\n",
    "print(vectorizer.get_feature_names())"
   ]
  },
  {
   "cell_type": "code",
   "execution_count": 9,
   "metadata": {},
   "outputs": [],
   "source": [
    "query1 = 'beautiful'\n",
    "query2 = 'girl'\n",
    "# To get list of all doc containing a word, we do it in the following way\n",
    "list_q1 = X[:,vectorizer.vocabulary_[query1]]\n",
    "# Step 5. Do the same for 'query2' and store it in 'list_q2'\n",
    "list_q2 = X[:,vectorizer.vocabulary_[query2]]"
   ]
  },
  {
   "cell_type": "code",
   "execution_count": 10,
   "metadata": {},
   "outputs": [
    {
     "name": "stdout",
     "output_type": "stream",
     "text": [
      "Teardrops On My Guitar\n",
      "Superman\n",
      "End Game (Ft. Ed Sheeran & Future)\n"
     ]
    }
   ],
   "source": [
    "# AND Operation\n",
    "for i in range(list_q1.shape[0]):\n",
    "    if list_q1[i]==1 and list_q2[i]==1:\n",
    "        print(df.iloc[i,1])"
   ]
  },
  {
   "cell_type": "markdown",
   "metadata": {},
   "source": [
    "**Step 6. Implement OR operation - 1 Mark**"
   ]
  },
  {
   "cell_type": "code",
   "execution_count": 11,
   "metadata": {},
   "outputs": [
    {
     "name": "stdout",
     "output_type": "stream",
     "text": [
      "Teardrops On My Guitar\n",
      "A Place In This World\n",
      "Stay Beautiful\n",
      "Mary's Song (Oh My My My)\n",
      "I'm Only Me When I'm With You\n",
      "Invisible\n",
      "Fifteen\n",
      "Hey Stephen\n",
      "White Horse\n",
      "You Belong With Me\n",
      "The Way I Loved You\n",
      "Back To December\n",
      "Speak Now\n",
      "Dear John\n",
      "Innocent\n",
      "Last Kiss\n",
      "Superman\n",
      "Holy Ground\n",
      "Sad Beautiful Tragic\n",
      "Everything Has Changed (Ft. Ed Sheeran)\n",
      "Begin Again\n",
      "Girl at Home\n",
      "Blank Space\n",
      "Style\n",
      "How You Get The Girl\n",
      "End Game (Ft. Ed Sheeran & Future)\n",
      "So It Goes...\n",
      "King of My Heart\n"
     ]
    }
   ],
   "source": [
    "# OR Operation\n",
    "for i in range(list_q1.shape[0]):\n",
    "    if list_q1[i]==1 or list_q2[i]==1:\n",
    "        print(df.iloc[i,1])"
   ]
  },
  {
   "cell_type": "markdown",
   "metadata": {},
   "source": [
    "## 2. Vector Space Model\n",
    "In this model, every document and query is represented as a vector and closest vector as measured by cosine distance is considered as the correct answer."
   ]
  },
  {
   "cell_type": "markdown",
   "metadata": {},
   "source": [
    "**Documentation Reference:**<br>\n",
    "1. https://scikit-learn.org/stable/modules/generated/sklearn.feature_extraction.text.TfidfVectorizer.html\n",
    "2. https://scikit-learn.org/stable/modules/generated/sklearn.metrics.pairwise.cosine_similarity.html\n",
    "\n",
    "**Step 1. Import above references - 1 Mark**"
   ]
  },
  {
   "cell_type": "code",
   "execution_count": 12,
   "metadata": {},
   "outputs": [],
   "source": [
    "from sklearn.feature_extraction.text import TfidfVectorizer"
   ]
  },
  {
   "cell_type": "markdown",
   "metadata": {},
   "source": [
    "**Step 2. Create a 'vectorizer' object of 'TfidfVectorizer' - 1 Mark**"
   ]
  },
  {
   "cell_type": "code",
   "execution_count": 13,
   "metadata": {},
   "outputs": [],
   "source": [
    "vectorizer = TfidfVectorizer()"
   ]
  },
  {
   "cell_type": "markdown",
   "metadata": {},
   "source": [
    "Here we attempt to calculate tf-idf scores of the terms (lyrics). We do that by doing the following. <br> \n",
    "**Step 3. Fit and transform the lyric column using vectorizer - 2 Marks**<br>\n",
    "X object is a matrix of size (n_songs,n_unique_words) where each entry is tf-idf score of the word in this song. Verify this using X.shape method"
   ]
  },
  {
   "cell_type": "code",
   "execution_count": 15,
   "metadata": {},
   "outputs": [
    {
     "data": {
      "text/plain": [
       "(94, 2301)"
      ]
     },
     "execution_count": 15,
     "metadata": {},
     "output_type": "execute_result"
    }
   ],
   "source": [
    "corpus = df['lyric'].tolist()\n",
    "X = vectorizer.fit_transform(corpus)\n",
    "X.shape\n",
    "#print(vectorizer.get_feature_names())"
   ]
  },
  {
   "cell_type": "markdown",
   "metadata": {},
   "source": [
    "**Step 4. Use 'transform' method of vectorizer on 'query' and store in 'query_vec' - 1 Mark**<br>\n",
    "This method converts a text value into a tf-idf vector"
   ]
  },
  {
   "cell_type": "code",
   "execution_count": 18,
   "metadata": {},
   "outputs": [
    {
     "data": {
      "text/plain": [
       "<1x2301 sparse matrix of type '<class 'numpy.float64'>'\n",
       "\twith 5 stored elements in Compressed Sparse Row format>"
      ]
     },
     "execution_count": 18,
     "metadata": {},
     "output_type": "execute_result"
    }
   ],
   "source": [
    "query = \"Take it easy, with me\"\n",
    "query_vector = vectorizer.transform([query])\n",
    "query_vector"
   ]
  },
  {
   "cell_type": "markdown",
   "metadata": {},
   "source": [
    "**Step 5. Use 'cosine_similarity' on 'X' and 'query_vec' store it in 'results' - 1 Mark**"
   ]
  },
  {
   "cell_type": "code",
   "execution_count": 19,
   "metadata": {},
   "outputs": [],
   "source": [
    "from sklearn.metrics.pairwise import cosine_similarity\n",
    "results = cosine_similarity(X, query_vec)"
   ]
  },
  {
   "cell_type": "code",
   "execution_count": 21,
   "metadata": {},
   "outputs": [
    {
     "name": "stdout",
     "output_type": "stream",
     "text": [
      "\n",
      "Song Title --  Breathe (Ft. Colbie Caillat)\n",
      "\n",
      "Track Album --  Fearless\n",
      "\n",
      "Track Lyrics --  I see your face in my mind as I drive away 'Cause none of us thought it was Going to end that way People are people And sometimes we change our minds But it's killing me to see you go after all this time Mm mm mm, mm mm mm, mm mm Mm mm mm, mm mm mm, mm mm Music starts playing like the end of a sad movie It's the kind of ending you Don't really want to see 'Cause it's tragedy and it'll only bring you Down Now I don't know what to be without you around And we know it's never simple, never easy Never a clean break, no one here to Save me You're the only thing I know like the back of my hand And I can't Breathe Without you but I have to breathe Without you but I have to Never wanted this, never want to see you hurt Every little bump in the road I tried to swerve But people are people And sometimes it doesn't work out Nothing we say is gonna save us from the fall out It's 2 A.M Feeling like I just lost a friend Hope you know it's not easy Easy for me It's 2 A.M Feeling like I just lost a friend Hope you know this ain't easy Easy for me Sorry, sorry Sorry, (Yeah eh) sorry Sorry, sorry Sorry\n"
     ]
    }
   ],
   "source": [
    "# Print Name of the song\n",
    "song_index = np.argmax(results.reshape((-1,)))\n",
    "print('\\nSong Title -- ',df['track_title'].loc[song_index]) # add song name here \n",
    "print('\\nTrack Album -- ',df['album'].loc[song_index])\n",
    "print('\\nTrack Lyrics -- ',df['lyric'].loc[song_index])"
   ]
  },
  {
   "cell_type": "code",
   "execution_count": null,
   "metadata": {},
   "outputs": [],
   "source": [
    "#END OF ASSIGNMENT"
   ]
  }
 ],
 "metadata": {
  "kernelspec": {
   "display_name": "Python 3",
   "language": "python",
   "name": "python3"
  },
  "language_info": {
   "codemirror_mode": {
    "name": "ipython",
    "version": 3
   },
   "file_extension": ".py",
   "mimetype": "text/x-python",
   "name": "python",
   "nbconvert_exporter": "python",
   "pygments_lexer": "ipython3",
   "version": "3.7.6"
  }
 },
 "nbformat": 4,
 "nbformat_minor": 2
}
